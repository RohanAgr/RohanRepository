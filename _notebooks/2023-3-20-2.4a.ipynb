{
 "cells": [
  {
   "attachments": {},
   "cell_type": "markdown",
   "metadata": {},
   "source": [
    "#  Unit 2.4a Using Programs with Data, SQLAlchemy\n",
    "> Using Programs with Data is focused on SQL and database actions.  Part A focuses on SQLAlchemy and an OOP programming style,\n",
    "- toc: true\n",
    "- image: /images/python.png\n",
    "- categories: []\n",
    "- type: ap\n",
    "- week: 26"
   ]
  },
  {
   "attachments": {},
   "cell_type": "markdown",
   "metadata": {},
   "source": [
    "# Database and SQLAlchemy\n",
    "> In this blog we will explore using programs with data, focused on Databases.  We will use SQLite Database to learn more about using Programs with Data.  ***Use Debugging through these examples to examine Objects created in Code***.\n",
    "\n",
    "- College Board talks about ideas like \n",
    "    - Program Usage. \"iterative and interactive way when processing information\"\n",
    "    - Managing Data.  \"classifying data are part of the process in using programs\", \"data files in a Table\"\n",
    "    - Insight \"insight and knowledge can be obtained from ...  digitally represented information\"\n",
    "    - Filter systems. 'tools for finding information and recognizing patterns\"\n",
    "    - Application. \"the preserve has two databases\", \"an employee wants to count the number of book\"\n",
    "\n",
    "- PBL, Databases, Iterative/OOP\n",
    "    - Iterative. Refers to a sequence of instructions or code being repeated until a specific end result is achieved\n",
    "    - OOP. A computer programming model that organizes software design around data, or objects, rather than functions and logic\n",
    "    - SQL. Structured Query Language, abbreviated as SQL, is a language used in programming, managing, and structuring data \n"
   ]
  },
  {
   "attachments": {},
   "cell_type": "markdown",
   "metadata": {},
   "source": [
    "## Imports and Flask Objects\n",
    "> Defines and key object creations\n",
    "\n",
    "- Comment on where you have observed these working?  Provide a defintion of purpose.\n",
    "    1. Flask app object\n",
    "    2. SQLAlchemy db object\n"
   ]
  },
  {
   "cell_type": "code",
   "execution_count": 1,
   "metadata": {},
   "outputs": [],
   "source": [
    "\"\"\"\n",
    "These imports define the key objects\n",
    "\"\"\"\n",
    "\n",
    "from flask import Flask\n",
    "from flask_sqlalchemy import SQLAlchemy\n",
    "\n",
    "\"\"\"\n",
    "These object and definitions are used throughout the Jupyter Notebook.\n",
    "\"\"\"\n",
    "\n",
    "# Setup of key Flask object (app)\n",
    "app = Flask(__name__)\n",
    "# Setup SQLAlchemy object and properties for the database (db)\n",
    "database = 'sqlite:///sqlite.db'  # path and filename of database\n",
    "app.config['SQLALCHEMY_TRACK_MODIFICATIONS'] = False\n",
    "app.config['SQLALCHEMY_DATABASE_URI'] = database\n",
    "app.config['SECRET_KEY'] = 'SECRET_KEY'\n",
    "db = SQLAlchemy()\n",
    "\n",
    "\n",
    "\n",
    "# This belongs in place where it runs once per project\n",
    "db.init_app(app)\n"
   ]
  },
  {
   "cell_type": "code",
   "execution_count": 2,
   "metadata": {},
   "outputs": [],
   "source": [
    "\"\"\" database dependencies to support sqlite examples \"\"\"\n",
    "import datetime\n",
    "from datetime import datetime\n",
    "import json\n",
    "\n",
    "from sqlalchemy.exc import IntegrityError\n",
    "\n",
    "''' Tutorial: https://www.sqlalchemy.org/library.html#tutorials, try to get into a Python shell and follow along '''\n",
    "\n",
    "# Define the User class to manage actions in the 'users' table\n",
    "# -- Object Relational Mapping (ORM) is the key concept of SQLAlchemy\n",
    "# -- a.) db.Model is like an inner layer of the onion in ORM\n",
    "# -- b.) User represents data we want to store, something that is built on db.Model\n",
    "# -- c.) SQLAlchemy ORM is layer on top of SQLAlchemy Core, then SQLAlchemy engine, SQL\n",
    "class MLB(db.Model):\n",
    "    __tablename__ = 'MLB'  # table name is plural, class name is singular\n",
    "\n",
    "    # Define the User schema with \"vars\" from object\n",
    "    id = db.Column(db.Integer, primary_key=True)\n",
    "    _name = db.Column(db.String(255), unique=False, nullable=False)\n",
    "    _uid = db.Column(db.String(255), unique=True, nullable=False)\n",
    "    _position = db.Column(db.String(255), unique=False, nullable=False)\n",
    "    _team = db.Column(db.String(255), unique=False, nullable=False)\n",
    "    _number = db.Column(db.Integer, primary_key=False)\n",
    "\n",
    "    # constructor of a User object, initializes the instance variables within object (self)\n",
    "    def __init__(self, name, uid, position, team, number):\n",
    "        self._name = name    # variables with self prefix become part of the object, \n",
    "        self._uid = uid\n",
    "        self._position = position\n",
    "        self._team = team\n",
    "        self._number = number\n",
    "\n",
    "    # a name getter method, extracts name from object\n",
    "    @property\n",
    "    def name(self):\n",
    "        return self._name\n",
    "    \n",
    "    # a setter function, allows name to be updated after initial object creation\n",
    "    @name.setter\n",
    "    def name(self, name):\n",
    "        self._name = name\n",
    "    \n",
    "    # a getter method, extracts uid from object\n",
    "    @property\n",
    "    def uid(self):\n",
    "        return self._uid\n",
    "    \n",
    "    # a setter function, allows uid to be updated after initial object creation\n",
    "    @uid.setter\n",
    "    def uid(self, uid):\n",
    "        self._uid = uid\n",
    "        \n",
    "    # check if uid parameter matches user id in object, return boolean\n",
    "    def is_uid(self, uid):\n",
    "        return self._uid == uid\n",
    "    \n",
    "    # a getter method, extracts mascot from object\n",
    "    @property\n",
    "    def position(self):\n",
    "        return self._position\n",
    "    \n",
    "    # a setter function, allows mascot to be updated after initial object creation\n",
    "    @position.setter\n",
    "    def mascot(self, position):\n",
    "        self._position = position\n",
    "\n",
    "    # a getter method, extracts car from object\n",
    "    @property\n",
    "    def team(self):\n",
    "        return self._team\n",
    "\n",
    "    # a setter function, allows car to be updated after initial object creation\n",
    "    @team.setter\n",
    "    def team(self, team):\n",
    "        self._team = team\n",
    "    \n",
    "    # a getter method, extracts mile from object\n",
    "    @property\n",
    "    def number(self):\n",
    "        return self._number\n",
    "    \n",
    "    # a setter function, allows car to be updated after initial object creation\n",
    "    @number.setter\n",
    "    def number(self, number):\n",
    "        self._number = number\n",
    "    \n",
    "    # output content using str(object) is in human readable form\n",
    "    # output content using json dumps, this is ready for API response\n",
    "    def __str__(self):\n",
    "        return json.dumps(self.read())\n",
    "\n",
    "    # CRUD create/add a new record to the table\n",
    "    # returns self or None on error\n",
    "    def create(self):\n",
    "        try:\n",
    "            # creates a person object from User(db.Model) class, passes initializers\n",
    "            db.session.add(self)  # add prepares to persist person object to Users table\n",
    "            db.session.commit()  # SqlAlchemy \"unit of work pattern\" requires a manual commit\n",
    "            return self\n",
    "        except IntegrityError:\n",
    "            db.session.remove()\n",
    "            return None\n",
    "\n",
    "    # CRUD read converts self to dictionary\n",
    "    # returns dictionary\n",
    "    def read(self):\n",
    "        return {\n",
    "            \"id\": self.id,\n",
    "            \"name\": self.name,\n",
    "            \"uid\": self.uid,\n",
    "            \"position\": self.position,\n",
    "            \"team\": self.team,\n",
    "            \"number\": self.number,\n",
    "        }\n",
    "\n",
    "    # CRUD update: updates user name, car, phone\n",
    "    # returns self\n",
    "    def update(self, name=\"\", uid=\"\", position=\"\", team=\"\"):\n",
    "        \"\"\"only updates values with length\"\"\"\n",
    "        if len(name) > 0:\n",
    "            self.name = name\n",
    "        if len(uid) > 0:\n",
    "            self.uid = uid\n",
    "        if len(position) > 0:\n",
    "            self.position = position\n",
    "        if len(team) > 0:\n",
    "            self._team = team\n",
    "        db.session.commit()\n",
    "        return self\n",
    "\n",
    "    # CRUD delete: remove self\n",
    "    # None\n",
    "    def delete(self):\n",
    "        db.session.delete(self)\n",
    "        db.session.commit()\n",
    "        return None"
   ]
  },
  {
   "attachments": {},
   "cell_type": "markdown",
   "metadata": {},
   "source": [
    "We first import the flask and then import SQLAlchemy. This will set us up for the other code cells which follow. \n",
    "We define the app, the database, and how we want to configure it. \n",
    "This is seen in the app = Flask(__name__) command, database = 'sqlite:///files/sqlite.db', and all the app.config commands."
   ]
  },
  {
   "attachments": {},
   "cell_type": "markdown",
   "metadata": {},
   "source": [
    "## Model Definition\n",
    "> Define columns, initialization, and CRUD methods for users table in sqlite.db\n",
    "\n",
    "- Comment on these items in the class, purpose and defintion.\n",
    "    - class User\n",
    "    - db.Model inheritance\n",
    "    - _init_ method\n",
    "    - ```@property```, ```@<column>.setter```\n",
    "    - create, read, update, delete methods"
   ]
  },
  {
   "attachments": {},
   "cell_type": "markdown",
   "metadata": {},
   "source": [
    "- Here we import items for users\n",
    "- Users, ID, Password is all set up here.\n",
    "- We create a class called User, which is then stored in the database\n",
    "- We make more functions for name, user ID, password, and date of birth\n",
    "- We also implement CRUD (Create Read Update Delete)\n",
    "- All user data is stored in the database."
   ]
  },
  {
   "attachments": {},
   "cell_type": "markdown",
   "metadata": {},
   "source": [
    "## Initial Data\n",
    "> Uses SQLALchemy db.create_all() to initialize rows into sqlite.db\n",
    "\n",
    "- Comment on how these work?\n",
    "    1. Create All Tables from db Object\n",
    "    2. User Object Constructors\n",
    "    3. Try / Except \n"
   ]
  },
  {
   "cell_type": "code",
   "execution_count": 3,
   "metadata": {},
   "outputs": [
    {
     "name": "stdout",
     "output_type": "stream",
     "text": [
      "Records exist uid machados13, or error.\n",
      "Records exist uid miketrout, or error.\n",
      "Records exist uid snellzilla4, or error.\n",
      "Records exist uid thejudge44, or error.\n",
      "Records exist uid jrodshow44, or error.\n",
      "Records exist uid justinverlander, or error.\n",
      "Records exist uid bryceharper3, or error.\n"
     ]
    }
   ],
   "source": [
    "def initMLB():\n",
    "    with app.app_context():\n",
    "        \"\"\"Create database and tables\"\"\"\n",
    "        db.create_all()\n",
    "\n",
    "        \"\"\"Tester data for table\"\"\"\n",
    "        u1 = MLB(name='Manny Machado', uid=\"machados13\", position='Third Base', number=13, team='San Diego Padres')\n",
    "        u2 = MLB(name='Mike Trout', uid=\"miketrout\", position='Center Field', number=27, team='Los Angeles Angels')\n",
    "        u3 = MLB(name='Blake Snell', uid=\"snellzilla4\", position='Pitcher', number=4, team='San Diego Padres')\n",
    "        u4 = MLB(name='Aaron Judge', uid=\"thejudge44\", position='Right Field', number=99, team='New York Yankees')\n",
    "        u5 = MLB(name='Julio Rodriguez', uid=\"jrodshow44\", position='Center Field', number=44, team='Seattle Mariners')\n",
    "        u6 = MLB(name='Justin Verlander', uid=\"justinverlander\", position='Pitcher', number=25, team='New York Mets')\n",
    "        u7 = MLB(name='Bryce Harper', uid=\"bryceharper3\", position='Designated Hitter', number=3, team='Philadelphia Phillies')\n",
    "\n",
    "        mlb_players = [u1, u2, u3, u4, u5, u6, u7] # Changed variable name to MLB_players4\n",
    "        \"\"\"Builds sample Track/note(s) data\"\"\"\n",
    "        for player in mlb_players: # Changed variable name to corresponding MLB player\n",
    "            try:\n",
    "                '''add Track to table'''\n",
    "                object = player.create() # Changed variable name to player\n",
    "                print(f\"Created new uid {object.uid}\")\n",
    "            except:  # error raised if object nit created\n",
    "                '''fails with bad or duplicate data'''\n",
    "                print(f\"Records exist uid {player.uid}, or error.\")\n",
    "        \n",
    "initMLB()"
   ]
  },
  {
   "attachments": {},
   "cell_type": "markdown",
   "metadata": {},
   "source": [
    "- Here we have a list of users (u1 - u6) with each user having their own name, ID, password, and date of birth.\n",
    "- If all the objects are present, then the user is successfully created.\n",
    "- If one or more of the objects are not there, then the user will be prompted to fill out the other fields, or else the user will not be created."
   ]
  },
  {
   "attachments": {},
   "cell_type": "markdown",
   "metadata": {},
   "source": [
    "## Check for given Credentials in users table in sqlite.db\n",
    "> Use of ORM Query object and custom methods to identify user to credentials uid and password\n",
    "\n",
    "- Comment on purpose of following\n",
    "    1. User.query.filter_by\n",
    "    2. user.password"
   ]
  },
  {
   "cell_type": "code",
   "execution_count": 4,
   "metadata": {},
   "outputs": [
    {
     "data": {
      "text/plain": [
       "True"
      ]
     },
     "execution_count": 4,
     "metadata": {},
     "output_type": "execute_result"
    }
   ],
   "source": [
    "# SQLAlchemy extracts single user from database matching User ID\n",
    "def find_by_uid(uid):\n",
    "    with app.app_context():\n",
    "        user = MLB.query.filter_by(_uid=uid).first()\n",
    "    return user # returns user object\n",
    "\n",
    "# Check credentials by finding user and verify password\n",
    "def check_credentials(uid):\n",
    "    # query email and return user record\n",
    "    user = find_by_uid(uid)\n",
    "    if user == None:\n",
    "        return False\n",
    "    return True\n",
    "        \n",
    "check_credentials(\"machados13\")"
   ]
  },
  {
   "attachments": {},
   "cell_type": "markdown",
   "metadata": {},
   "source": [
    "- We can runmage through the database to find certain users and their data.\n",
    "- A series of if loops can be run to check to see if the user is there, and if the password is also there."
   ]
  },
  {
   "attachments": {},
   "cell_type": "markdown",
   "metadata": {},
   "source": [
    "## Create a new User in table in Sqlite.db\n",
    "> Uses SQLALchemy and custom user.create() method to add row.\n",
    "\n",
    "- Comment on purpose of following\n",
    "    1. user.find_by_uid() and try/except\n",
    "    2. user = User(...)\n",
    "    3. user.dob and try/except\n",
    "    4. user.create() and try/except"
   ]
  },
  {
   "cell_type": "code",
   "execution_count": null,
   "metadata": {},
   "outputs": [],
   "source": []
  },
  {
   "cell_type": "code",
   "execution_count": 5,
   "metadata": {},
   "outputs": [
    {
     "name": "stdout",
     "output_type": "stream",
     "text": [
      "Created\n",
      " {'id': 9, 'name': '', 'uid': '', 'position': '', 'team': '', 'number': ''}\n"
     ]
    }
   ],
   "source": [
    "# Inputs, Try/Except, and SQLAlchemy work together to build a valid database object\n",
    "def create():\n",
    "    # optimize user time to see if uid exists\n",
    "    uid = input(\"Create your own user ID here: \")\n",
    "    user = find_by_uid(uid)\n",
    "    try:\n",
    "        print(\"Found\\n\", user.read())\n",
    "        return\n",
    "    except:\n",
    "        pass # keep going\n",
    "    \n",
    "    # request value that ensure creating valid object\n",
    "    name = input(\"Add your player's name: \")\n",
    "    position = input(\"Add your player's position: \")\n",
    "    team = input(\"What team does your team play for? \")\n",
    "    number = input(\"What number does your player wear? \")\n",
    "    \n",
    "    # Initialize User object before date\n",
    "    user = MLB(name=name, \n",
    "                uid=uid, \n",
    "                position=position,\n",
    "                team=team,\n",
    "                number=number\n",
    "                )\n",
    "    \n",
    "    # create user.dob, fail with today as dob\n",
    "           \n",
    "    # write object to database\n",
    "    with app.app_context():\n",
    "        try:\n",
    "            object = user.create()\n",
    "            print(\"Created\\n\", object.read())\n",
    "        except:  # error raised if object not created\n",
    "            print(\"Unknown error uid {uid}\")\n",
    "        \n",
    "create()"
   ]
  },
  {
   "attachments": {},
   "cell_type": "markdown",
   "metadata": {},
   "source": [
    "- Here we create a user by prompting them to enter their name, ID, a date of birth, and a password. It is then stored in the database, and the user can read whatever output is given.\n"
   ]
  },
  {
   "attachments": {},
   "cell_type": "markdown",
   "metadata": {},
   "source": [
    "## Reading users table in sqlite.db\n",
    "> Uses SQLALchemy query.all method to read data\n",
    "\n",
    "- Comment on purpose of following\n",
    "    1. User.query.all\n",
    "    2. json_ready assignment, google List Comprehension"
   ]
  },
  {
   "cell_type": "code",
   "execution_count": 12,
   "metadata": {},
   "outputs": [
    {
     "data": {
      "text/plain": [
       "[{'id': 1,\n",
       "  'name': 'Manny Machado',\n",
       "  'uid': 'machados13',\n",
       "  'position': 'Third Base',\n",
       "  'team': 'San Diego Padres',\n",
       "  'number': 13},\n",
       " {'id': 2,\n",
       "  'name': 'Mike Trout',\n",
       "  'uid': 'miketrout',\n",
       "  'position': 'Center Field',\n",
       "  'team': 'Los Angeles Angels',\n",
       "  'number': 27},\n",
       " {'id': 3,\n",
       "  'name': 'Blake Snell',\n",
       "  'uid': 'snellzilla4',\n",
       "  'position': 'Pitcher',\n",
       "  'team': 'San Diego Padres',\n",
       "  'number': 4},\n",
       " {'id': 4,\n",
       "  'name': 'Aaron Judge',\n",
       "  'uid': 'thejudge44',\n",
       "  'position': 'Right Field',\n",
       "  'team': 'New York Yankees',\n",
       "  'number': 99},\n",
       " {'id': 5,\n",
       "  'name': 'Julio Rodriguez',\n",
       "  'uid': 'jrodshow44',\n",
       "  'position': 'Center Field',\n",
       "  'team': 'Seattle Mariners',\n",
       "  'number': 44},\n",
       " {'id': 6,\n",
       "  'name': 'Justin Verlander',\n",
       "  'uid': 'justinverlander',\n",
       "  'position': 'Pitcher',\n",
       "  'team': 'New York Mets',\n",
       "  'number': 25},\n",
       " {'id': 7,\n",
       "  'name': 'Bryce Harper',\n",
       "  'uid': 'bryceharper3',\n",
       "  'position': 'Designated Hitter',\n",
       "  'team': 'Philadelphia Phillies',\n",
       "  'number': 3},\n",
       " {'id': 8,\n",
       "  'name': 'Joe Musgrove',\n",
       "  'uid': 'mu59grove',\n",
       "  'position': 'Pitcher',\n",
       "  'team': 'San Diego Padres',\n",
       "  'number': 44}]"
      ]
     },
     "execution_count": 12,
     "metadata": {},
     "output_type": "execute_result"
    }
   ],
   "source": [
    "\n",
    "# SQLAlchemy extracts all users from database, turns each user into JSON\n",
    "def read():\n",
    "    with app.app_context():\n",
    "        table = MLB.query.all()\n",
    "    json_ready = [user.read() for user in table] # \"List Comprehensions\", for each user add user.read() to list\n",
    "    return json_ready\n",
    "\n",
    "read()"
   ]
  },
  {
   "attachments": {},
   "cell_type": "markdown",
   "metadata": {},
   "source": [
    "The user can read the name, user ID, password, and date of birth.\n"
   ]
  },
  {
   "attachments": {},
   "cell_type": "markdown",
   "metadata": {},
   "source": [
    "# Hacks\n",
    "- Add this Blog to you own Blogging site.  In the Blog add notes and observations on each code cell.\n",
    "- Change blog to your own database.\n",
    "- Add additional CRUD\n",
    "    - Add Update functionality to this blog.\n",
    "    - Add Delete functionality to this blog."
   ]
  },
  {
   "cell_type": "code",
   "execution_count": 13,
   "metadata": {},
   "outputs": [
    {
     "name": "stdout",
     "output_type": "stream",
     "text": [
      "No user id  found\n"
     ]
    }
   ],
   "source": [
    "\n",
    "def update():\n",
    "    # optimize user time to see if uid exists\n",
    "    uid = input(\"Enter the user ID of your new player here: \")\n",
    "    user = find_by_uid(uid)\n",
    "    if user != None:\n",
    "        pass\n",
    "    else:\n",
    "        print(f\"No user id {uid} found\")\n",
    "        return\n",
    "    name = input(\"Add your player's name: \")\n",
    "    position = input(\"Add your player's position: \")\n",
    "    team = input(\"What team does your team play for? \")\n",
    "    number = input(\"What number does your player wear? \")\n",
    "    \n",
    "    # Initialize User object before date\n",
    "    user = MLB(name=name, \n",
    "                uid=uid, \n",
    "                position=position,\n",
    "                team=team,\n",
    "                number=number,\n",
    "                )\n",
    "    # write object to database\n",
    "    with app.app_context():\n",
    "        try:\n",
    "            object = user.update()\n",
    "            print(\"Updated\\n\", object.read())\n",
    "        except:  # error raised if object not created\n",
    "            print(\"Unknown error uid {uid}\")\n",
    "        \n",
    "update()\n"
   ]
  },
  {
   "cell_type": "code",
   "execution_count": 10,
   "metadata": {},
   "outputs": [
    {
     "name": "stdout",
     "output_type": "stream",
     "text": [
      "The row with id 9 was successfully deleted\n"
     ]
    }
   ],
   "source": [
    "import sqlite3\n",
    "\n",
    "database = 'instance/sqlite.db' # this is location of database\n",
    "\n",
    "def delete():\n",
    "    id = input(\"Which player (user ID) do you want to remove? \")\n",
    "\n",
    "    # Connect to the database file\n",
    "    conn = sqlite3.connect(database)\n",
    "\n",
    "    # Create a cursor object to execute SQL commands\n",
    "    cursor = conn.cursor()\n",
    "    \n",
    "    try:\n",
    "        cursor.execute(\"DELETE FROM MLB WHERE id = ?\", (id))\n",
    "        if cursor.rowcount == 0:\n",
    "            # The id was not found in the table\n",
    "            print(f\"No id {id} was not found in the table\")\n",
    "        else:\n",
    "            # The id was found in the table and the row was deleted\n",
    "            print(f\"The row with id {id} was successfully deleted\")\n",
    "        conn.commit()\n",
    "    except sqlite3.Error as error:\n",
    "        print(\"Error while executing the DELETE:\", error)\n",
    "    finally:\n",
    "        conn.commit()\n",
    "        conn.close()\n",
    "        \n",
    "delete()"
   ]
  }
 ],
 "metadata": {
  "kernelspec": {
   "display_name": "base",
   "language": "python",
   "name": "python3"
  },
  "language_info": {
   "codemirror_mode": {
    "name": "ipython",
    "version": 3
   },
   "file_extension": ".py",
   "mimetype": "text/x-python",
   "name": "python",
   "nbconvert_exporter": "python",
   "pygments_lexer": "ipython3",
   "version": "3.9.12"
  },
  "orig_nbformat": 4,
  "vscode": {
   "interpreter": {
    "hash": "18199bb2938692f81726a814268c7c4b08836ae887eb079b5324629a624df571"
   }
  }
 },
 "nbformat": 4,
 "nbformat_minor": 2
}
