{
 "cells": [
  {
   "cell_type": "markdown",
   "metadata": {},
   "source": []
  },
  {
   "cell_type": "markdown",
   "metadata": {},
   "source": [
    "- binary homework\n",
    "- week 2\n",
    "- preliminary score 0.9 / 1"
   ]
  },
  {
   "cell_type": "markdown",
   "metadata": {},
   "source": [
    "- the symbol for exponent is **  \n",
    "- the symbol for addition is +  \n",
    "- the symbol for subtraction is - \n",
    "- the symbol for multiplication is * \n",
    "- the symbol for division is /  \n",
    "- the symbol for modulus is % \n",
    "- an algorithm is a sequence of steps to perform a specific task\n",
    "\n",
    "Index is a number representing a position, like a character's position in a string or a string's position in a list.  \n",
    "Concatenation is a series of interconnected strings\n",
    "Length is number of characters in a certain string  \n",
    "A substring is a segment of a string \n"
   ]
  },
  {
   "cell_type": "code",
   "execution_count": 2,
   "metadata": {},
   "outputs": [
    {
     "name": "stdout",
     "output_type": "stream",
     "text": [
      "00111101\n"
     ]
    }
   ],
   "source": [
    "def convert(bin): # declare the convert function, named bin\n",
    "    result = \"\" # variable which will be outputted later\n",
    "    i = 7 # declaring i\n",
    "\n",
    "    while i >= 0:\n",
    "        if bin % (2**i) == bin:  # here we run some while and if loops in order to classify each number as even or odd, and we assign 0 and 1 accordingly.\n",
    "            result = result + \"0\"\n",
    "            i -= 1\n",
    "        else:\n",
    "            result = result + \"1\"\n",
    "            bin -= 2**i ## assignment operators\n",
    "            i -= 1 \n",
    "\n",
    "    print(result) # final print of the result, in binary\n",
    "\n",
    "convert(61) # conversion mechanism"
   ]
  },
  {
   "cell_type": "code",
   "execution_count": 5,
   "metadata": {},
   "outputs": [
    {
     "name": "stdout",
     "output_type": "stream",
     "text": [
      "jaden string length: 5\n",
      "max string length: 3\n",
      "dylan string length: 5\n",
      "orlando string length: 7\n"
     ]
    }
   ],
   "source": [
    "names = [\"jaden\",\"max\",\"dylan\",\"orlando\"] # list which has all the data\n",
    "\n",
    "def length(list): # declare the variable and function\n",
    "    for output in names:\n",
    "        print(output + \" string length: \" + str(len(output))) # prints the output of the length of each of the strings in each item in the list.\n",
    "\n",
    "length(names)"
   ]
  }
 ],
 "metadata": {
  "kernelspec": {
   "display_name": "Python 3.8.10 64-bit",
   "language": "python",
   "name": "python3"
  },
  "language_info": {
   "codemirror_mode": {
    "name": "ipython",
    "version": 3
   },
   "file_extension": ".py",
   "mimetype": "text/x-python",
   "name": "python",
   "nbconvert_exporter": "python",
   "pygments_lexer": "ipython3",
   "version": "3.8.10"
  },
  "orig_nbformat": 4,
  "vscode": {
   "interpreter": {
    "hash": "31f2aee4e71d21fbe5cf8b01ff0e069b9275f58929596ceb00d14d90e3e16cd6"
   }
  }
 },
 "nbformat": 4,
 "nbformat_minor": 2
}
