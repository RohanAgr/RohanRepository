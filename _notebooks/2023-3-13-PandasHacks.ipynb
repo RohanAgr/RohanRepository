{
 "cells": [
  {
   "attachments": {},
   "cell_type": "markdown",
   "metadata": {},
   "source": [
    "In this notebook we will:\n",
    "- Read a file containing data of baseball players\n",
    "- fetch certain players' data"
   ]
  },
  {
   "cell_type": "code",
   "execution_count": 24,
   "metadata": {},
   "outputs": [],
   "source": [
    "import pandas as pd"
   ]
  },
  {
   "cell_type": "code",
   "execution_count": 25,
   "metadata": {},
   "outputs": [
    {
     "name": "stdout",
     "output_type": "stream",
     "text": [
      "               Hitter                Position  Average  HomeRuns  RBI    OPS\n",
      "0       Trent Grisham            Center Field    0.184        17   53  0.625\n",
      "1  Fernando Tatis Jr.             Right Field    0.281        42   97  0.975\n",
      "2           Juan Soto              Left Field    0.242        27   62  0.853\n",
      "3       Manny Machado              Third Base    0.298        32  102  0.897\n",
      "4     Xander Bogaerts               Shortstop    0.307        15   73  0.833\n",
      "5    Jake Cronenworth              First Base    0.239        17   88  0.722\n",
      "6         Nelson Cruz  Designated Hitter (DH)    0.234        10   64  0.651\n",
      "7      Matt Carpenter                 Utility    0.305        15   37  1.138\n",
      "8        Ha-Seong Kim             Second Base    0.251        10   59  0.708\n",
      "9         Austin Nola                 Catcher    0.251         4   40  0.650\n"
     ]
    }
   ],
   "source": [
    "padres = pd.read_json('files/baseballplayers.json')\n",
    "\n",
    "print (padres)"
   ]
  },
  {
   "cell_type": "code",
   "execution_count": 26,
   "metadata": {},
   "outputs": [
    {
     "name": "stdout",
     "output_type": "stream",
     "text": [
      "                 Position\n",
      "0            Center Field\n",
      "1             Right Field\n",
      "2              Left Field\n",
      "3              Third Base\n",
      "4               Shortstop\n",
      "5              First Base\n",
      "6  Designated Hitter (DH)\n",
      "7                 Utility\n",
      "8             Second Base\n",
      "9                 Catcher\n",
      "\n",
      "            Hitter               Position\n",
      "     Trent Grisham           Center Field\n",
      "Fernando Tatis Jr.            Right Field\n",
      "         Juan Soto             Left Field\n",
      "     Manny Machado             Third Base\n",
      "   Xander Bogaerts              Shortstop\n",
      "  Jake Cronenworth             First Base\n",
      "       Nelson Cruz Designated Hitter (DH)\n",
      "    Matt Carpenter                Utility\n",
      "      Ha-Seong Kim            Second Base\n",
      "       Austin Nola                Catcher\n"
     ]
    }
   ],
   "source": [
    "print(padres[['Position']])\n",
    "\n",
    "print()\n",
    "\n",
    "print(padres[['Hitter', 'Position']].to_string(index=False))"
   ]
  },
  {
   "cell_type": "code",
   "execution_count": 27,
   "metadata": {},
   "outputs": [
    {
     "name": "stdout",
     "output_type": "stream",
     "text": [
      "   Average\n",
      "0    0.184\n",
      "1    0.281\n",
      "2    0.242\n",
      "3    0.298\n",
      "4    0.307\n",
      "5    0.239\n",
      "6    0.234\n",
      "7    0.305\n",
      "8    0.251\n",
      "9    0.251\n",
      "\n"
     ]
    }
   ],
   "source": [
    "print(padres[['Average']])\n",
    "print()"
   ]
  },
  {
   "cell_type": "code",
   "execution_count": 28,
   "metadata": {},
   "outputs": [
    {
     "name": "stdout",
     "output_type": "stream",
     "text": [
      "               Hitter     Position  Average  HomeRuns  RBI    OPS\n",
      "1  Fernando Tatis Jr.  Right Field    0.281        42   97  0.975\n",
      "2           Juan Soto   Left Field    0.242        27   62  0.853\n",
      "3       Manny Machado   Third Base    0.298        32  102  0.897\n",
      "4     Xander Bogaerts    Shortstop    0.307        15   73  0.833\n",
      "7      Matt Carpenter      Utility    0.305        15   37  1.138\n"
     ]
    }
   ],
   "source": [
    "print(padres[padres.OPS > .750])"
   ]
  },
  {
   "cell_type": "code",
   "execution_count": 22,
   "metadata": {},
   "outputs": [
    {
     "name": "stdout",
     "output_type": "stream",
     "text": [
      "           Hitter Position Average  HomeRuns  RBI    OPS\n",
      "7  Matt Carpenter  Utility    .305        15   37  1.138\n",
      "\n",
      "          Hitter      Position Average  HomeRuns  RBI    OPS\n",
      "0  Trent Grisham  Center Field    .184        17   53  0.625\n"
     ]
    }
   ],
   "source": [
    "print(padres[padres.OPS == padres.OPS.max()])\n",
    "print()\n",
    "print(padres[padres.OPS == padres.OPS.min()])"
   ]
  },
  {
   "cell_type": "code",
   "execution_count": null,
   "metadata": {},
   "outputs": [],
   "source": []
  }
 ],
 "metadata": {
  "kernelspec": {
   "display_name": "base",
   "language": "python",
   "name": "python3"
  },
  "language_info": {
   "codemirror_mode": {
    "name": "ipython",
    "version": 3
   },
   "file_extension": ".py",
   "mimetype": "text/x-python",
   "name": "python",
   "nbconvert_exporter": "python",
   "pygments_lexer": "ipython3",
   "version": "3.9.12"
  },
  "orig_nbformat": 4,
  "vscode": {
   "interpreter": {
    "hash": "18199bb2938692f81726a814268c7c4b08836ae887eb079b5324629a624df571"
   }
  }
 },
 "nbformat": 4,
 "nbformat_minor": 2
}
