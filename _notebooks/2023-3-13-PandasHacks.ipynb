{
 "cells": [
  {
   "attachments": {},
   "cell_type": "markdown",
   "metadata": {},
   "source": [
    "In this notebook we will:\n",
    "- Read a file containing data of baseball players\n",
    "- fetch certain players' data"
   ]
  },
  {
   "cell_type": "code",
   "execution_count": 1,
   "metadata": {},
   "outputs": [],
   "source": [
    "import pandas as pd"
   ]
  },
  {
   "cell_type": "code",
   "execution_count": 2,
   "metadata": {},
   "outputs": [
    {
     "name": "stdout",
     "output_type": "stream",
     "text": [
      "               Hitter                Position         Average in 2022  \\\n",
      "0       Trent Grisham            Center Field                    .184   \n",
      "1  Fernando Tatis Jr.             Right Field  DNP (.281 Avg in 2021)   \n",
      "2           Juan Soto              Left Field                    .242   \n",
      "3       Manny Machado              Third Base                    .298   \n",
      "4     Xander Bogaerts               Shortstop                    .307   \n",
      "5    Jake Cronenworth              First Base                    .239   \n",
      "6         Nelson Cruz  Designated Hitter (DH)                    .234   \n",
      "7      Matt Carpenter                 Utility                    .305   \n",
      "8        Ha-Seong Kim             Second Base                    .251   \n",
      "9         Austin Nola                 Catcher                    .251   \n",
      "\n",
      "            Home Runs in 2022           RBIs in 2022      Career OPS in 2022  \n",
      "0                          17                     53                    .625  \n",
      "1  DNP (42 home runs in 2021)  DNP (97 RBIs in 2021)  DNP (.975 OPS in 2021)  \n",
      "2                          27                     62                    .853  \n",
      "3                          32                    102                    .897  \n",
      "4                          15                     73                    .833  \n",
      "5                          17                     88                    .722  \n",
      "6                          10                     64                     651  \n",
      "7                          15                     37                   1.138  \n",
      "8                          10                     59                    .708  \n",
      "9                           4                     40                    .650  \n"
     ]
    }
   ],
   "source": [
    "padres = pd.read_json('files/baseballplayers.json')\n",
    "\n",
    "print (padres)"
   ]
  },
  {
   "cell_type": "code",
   "execution_count": 20,
   "metadata": {},
   "outputs": [
    {
     "name": "stdout",
     "output_type": "stream",
     "text": [
      "                 Position\n",
      "0            Center Field\n",
      "1             Right Field\n",
      "2              Left Field\n",
      "3              Third Base\n",
      "4               Shortstop\n",
      "5              First Base\n",
      "6  Designated Hitter (DH)\n",
      "7                 Utility\n",
      "8             Second Base\n",
      "9                 Catcher\n",
      "\n",
      "            Hitter               Position\n",
      "     Trent Grisham           Center Field\n",
      "Fernando Tatis Jr.            Right Field\n",
      "         Juan Soto             Left Field\n",
      "     Manny Machado             Third Base\n",
      "   Xander Bogaerts              Shortstop\n",
      "  Jake Cronenworth             First Base\n",
      "       Nelson Cruz Designated Hitter (DH)\n",
      "    Matt Carpenter                Utility\n",
      "      Ha-Seong Kim            Second Base\n",
      "       Austin Nola                Catcher\n"
     ]
    }
   ],
   "source": [
    "print(padres[['Position']])\n",
    "\n",
    "print()\n",
    "\n",
    "print(padres[['Hitter', 'Position']].to_string(index=False))"
   ]
  }
 ],
 "metadata": {
  "kernelspec": {
   "display_name": "base",
   "language": "python",
   "name": "python3"
  },
  "language_info": {
   "codemirror_mode": {
    "name": "ipython",
    "version": 3
   },
   "file_extension": ".py",
   "mimetype": "text/x-python",
   "name": "python",
   "nbconvert_exporter": "python",
   "pygments_lexer": "ipython3",
   "version": "3.9.12"
  },
  "orig_nbformat": 4,
  "vscode": {
   "interpreter": {
    "hash": "18199bb2938692f81726a814268c7c4b08836ae887eb079b5324629a624df571"
   }
  }
 },
 "nbformat": 4,
 "nbformat_minor": 2
}
