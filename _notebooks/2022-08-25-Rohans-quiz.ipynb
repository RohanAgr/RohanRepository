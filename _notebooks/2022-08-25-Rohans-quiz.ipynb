{
 "cells": [
  {
   "cell_type": "markdown",
   "metadata": {},
   "source": [
    "---\n",
    "title: MLB Quiz\n",
    "categories: [quizzes]\n",
    "---\n",
    "## Greetings, user.\n",
    "\n",
    "> Welcome to this quiz. How many can you get right? \n",
    "- This quiz will have 5 questions\n",
    "- What do you know about the MLB?\n",
    "- Be sure to capitalize the first letter of each word\n",
    "- Good luck!\n"
   ]
  },
  {
   "cell_type": "code",
   "execution_count": 34,
   "metadata": {},
   "outputs": [
    {
     "name": "stdout",
     "output_type": "stream",
     "text": [
      "Hello, rohanagrrunning /bin/python3\n",
      "You will be asked 5questions. \n",
      "Question: Are you ready to take the test? \n",
      "Question: What award is given to the best pitcher in a season?\n",
      "is incorrect, the correct answer was Cy Young\n",
      "Question: which team did Manny Machado play for before signing with the Padres?\n",
      "Dodgersis correct!\n",
      "Question: Complete the name: ____ Red Sox\n",
      " is incorrect, Boston is the right answer.\n",
      "Question: How many cities have 2 baseball teams?\n",
      "Boston is incorrect, the correct answer is 3.\n",
      "Question: What do you call a home run with the bases loaded?\n",
      " is incorrect, the correct answer is Grand Slam\n",
      "rohanagr you scored 1/5 for a score of 20.0%\n"
     ]
    }
   ],
   "source": [
    "import getpass, sys, math\n",
    "from re import U\n",
    "from locale import LC_ALL\n",
    "\n",
    "def question_with_response(prompt) :\n",
    "    print(\"Question: \" + prompt)\n",
    "    msg = input()\n",
    "    return msg\n",
    "\n",
    "questions = 5\n",
    "correct = 0\n",
    "\n",
    "\n",
    "print('Hello, ' + getpass.getuser() + \"running \" + sys.executable)\n",
    "print(\"You will be asked \" + str(questions) + \"questions. \")\n",
    "question_with_response(\"Are you ready to take the test? \")\n",
    "\n",
    "rsp = question_with_response(\"What award is given to the best pitcher in a season?\")\n",
    "if rsp == \"Cy Young\":\n",
    "    print(rsp + \"is correct!\")\n",
    "    correct += 1\n",
    "else:\n",
    "    print(rsp + \"is incorrect, the correct answer was Cy Young\")\n",
    "\n",
    "rsp = question_with_response(\"which team did Manny Machado play for before signing with the Padres?\")\n",
    "if rsp == \"Dodgers\":\n",
    "    print (rsp + \"is correct!\")\n",
    "    correct += 1\n",
    "else:\n",
    "    print(rsp + \" is incorrect, the correct answer is Dodgers.\")\n",
    "\n",
    "rsp = question_with_response(\"Complete the name: ____ Red Sox\")\n",
    "if rsp == \"Boston\":\n",
    "    print (rsp + \" is correct!\")\n",
    "    correct += 1\n",
    "else:\n",
    "        print ( rsp + \" is incorrect, Boston is the right answer.\")\n",
    "\n",
    "rsp = question_with_response(\"How many cities have 2 baseball teams?\")\n",
    "if rsp == \"3\":\n",
    "    print (rsp + \"is correct!\")\n",
    "    correct += 1\n",
    "else:\n",
    "    print( rsp + \" is incorrect, the correct answer is 3.\") \n",
    "\n",
    "rsp = question_with_response(\"What do you call a home run with the bases loaded?\")\n",
    "if rsp == \"Grand Slam\":\n",
    "    print (rsp + \" is correct!\")\n",
    "    correct += 1\n",
    "else:\n",
    "    print(rsp + \" is incorrect, the correct answer is Grand Slam\")\n",
    "print(getpass.getuser() + \" you scored \" + str(correct) + \"/\" + str(questions) + \" for a score of \" + str((correct/questions)*100) + \"%\" )\n",
    "\n",
    "\n"
   ]
  }
 ],
 "metadata": {
  "kernelspec": {
   "display_name": "Python 3.8.10 64-bit",
   "language": "python",
   "name": "python3"
  },
  "language_info": {
   "codemirror_mode": {
    "name": "ipython",
    "version": 3
   },
   "file_extension": ".py",
   "mimetype": "text/x-python",
   "name": "python",
   "nbconvert_exporter": "python",
   "pygments_lexer": "ipython3",
   "version": "3.8.10"
  },
  "orig_nbformat": 4,
  "vscode": {
   "interpreter": {
    "hash": "916dbcbb3f70747c44a77c7bcd40155683ae19c65e1c03b4aa3499c5328201f1"
   }
  }
 },
 "nbformat": 4,
 "nbformat_minor": 2
}
