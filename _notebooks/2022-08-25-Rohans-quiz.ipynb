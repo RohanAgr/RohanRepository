{
 "cells": [
  {
   "cell_type": "markdown",
   "metadata": {},
   "source": [
    "\n",
    "## Greetings, user.\n",
    "\n",
    "> Welcome to this quiz. How many can you get right? \n",
    "- This quiz will have 5 questions\n",
    "- This might be easy or hard for you, depending on how good you are at coding. \n",
    "\n"
   ]
  },
  {
   "cell_type": "code",
   "execution_count": 32,
   "metadata": {},
   "outputs": [
    {
     "name": "stdout",
     "output_type": "stream",
     "text": [
      "Hello, rohanagrrunning /bin/python3\n",
      "You will be asked 5questions. \n",
      "Question: Are you ready to take the test? \n",
      "Question: What command is used to display text in python?\n",
      "is incorrect, the correct answer was print\n",
      "Question: What is the term for a loop inside a loop?\n",
      "print is incorrect, the correct answer is nested or nested loop.\n",
      "Question: What might you do if you wanted to use certain libraries for certain purposes?\n",
      "print is incorrect, import is the right answer.\n",
      "Question: What type of programming language is python?\n",
      "prnt is incorrect, the correct answer is open source.\n",
      "Question: What is the file type for a jupyter notebook?\n",
      "ofjfj is incorrect, the correct answer is ipynb\n",
      "rohanagr you scored 0/5 for a score of 0.0%\n"
     ]
    }
   ],
   "source": [
    "import getpass, sys, math\n",
    "from re import U\n",
    "from locale import LC_ALL\n",
    "\n",
    "def question_with_response(prompt) :\n",
    "    print(\"Question: \" + prompt)\n",
    "    msg = input()\n",
    "    return msg\n",
    "\n",
    "questions = 5\n",
    "correct = 0\n",
    "\n",
    "\n",
    "print('Hello, ' + getpass.getuser() + \"running \" + sys.executable)\n",
    "print(\"You will be asked \" + str(questions) + \"questions. \")\n",
    "question_with_response(\"Are you ready to take the test? \")\n",
    "\n",
    "rsp = question_with_response(\"What command is used to display text in python?\")\n",
    "if rsp == \"print\":\n",
    "    print(rsp + \"is correct!\")\n",
    "    correct += 1\n",
    "else:\n",
    "    print(rsp + \"is incorrect, the correct answer was print\")\n",
    "\n",
    "rsp = question_with_response(\"What is the term for a loop inside a loop?\")\n",
    "if rsp == \"nested loop\":\n",
    "    print (rsp + \"is correct!\")\n",
    "    correct += 1\n",
    "else:\n",
    "    print(rsp + \" is incorrect, the correct answer is nested or nested loop.\")\n",
    "\n",
    "rsp = question_with_response(\"What might you do if you wanted to use certain libraries for certain purposes?\")\n",
    "if rsp == \"import\":\n",
    "    print (rsp + \" is correct!\")\n",
    "    correct += 1\n",
    "else:\n",
    "        print ( rsp + \" is incorrect, import is the right answer.\")\n",
    "\n",
    "rsp = question_with_response(\"What type of programming language is python?\")\n",
    "if rsp == \"open source\":\n",
    "    print (rsp + \"is correct!\")\n",
    "    correct += 1\n",
    "else:\n",
    "    print( rsp + \" is incorrect, the correct answer is open source.\") \n",
    "\n",
    "rsp = question_with_response(\"What is the file type for a jupyter notebook?\")\n",
    "if rsp == \"ipynb\":\n",
    "    print (rsp + \" is correct!\")\n",
    "    correct += 1\n",
    "else:\n",
    "    print(rsp + \" is incorrect, the correct answer is ipynb\")\n",
    "print(getpass.getuser() + \" you scored \" + str(correct) + \"/\" + str(questions) + \" for a score of \" + str((correct/questions)*100) + \"%\" )k\n",
    "\n",
    "\n"
   ]
  }
 ],
 "metadata": {
  "kernelspec": {
   "display_name": "Python 3.8.10 64-bit",
   "language": "python",
   "name": "python3"
  },
  "language_info": {
   "codemirror_mode": {
    "name": "ipython",
    "version": 3
   },
   "file_extension": ".py",
   "mimetype": "text/x-python",
   "name": "python",
   "nbconvert_exporter": "python",
   "pygments_lexer": "ipython3",
   "version": "3.8.10"
  },
  "orig_nbformat": 4,
  "vscode": {
   "interpreter": {
    "hash": "916dbcbb3f70747c44a77c7bcd40155683ae19c65e1c03b4aa3499c5328201f1"
   }
  }
 },
 "nbformat": 4,
 "nbformat_minor": 2
}
