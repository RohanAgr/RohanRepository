{
 "cells": [
  {
   "cell_type": "markdown",
   "metadata": {},
   "source": [
    "# Lists and Iteration Homework and Challenges\n",
    "> Try to complete this to show understanding! Copy this into your notebook so you can also take notes as we lecture. Make a copy of this notebook to your own repository to take notes, do the class challenges, and to access the homework.\n",
    "- title: Lists and Iteration Homework\n",
    "- toc: true\n",
    "- permalink: /homework/"
   ]
  },
  {
   "cell_type": "markdown",
   "metadata": {},
   "source": [
    "## Overview and Notes:  3.10 - Lists\n",
    "- Make sure you complete the challenge in the challenges section while we present the lesson! \n",
    "\n",
    "Add your <mark>OWN</mark> Notes for 3.10 here: \n",
    "\n",
    "- lists help organize and collect data in a program\n",
    "- we can locate them through indexing\n",
    "- we can add, remove, or change the location of a certain item in the list\n",
    "- ITERATIONS: repetition of a function\n",
    "- most commonly done through loops (for, while, if...)\n",
    "- Analogy: iterations and loops --> bread and butter\n",
    "\n",
    "\n",
    "Fill out the empty boxes: \n",
    "\n",
    "|   Pseudocode Operation  | Python Syntax |                                                           Description                                                          |\n",
    "|:-----------------------:|---------------|:------------------------------------------------------------------------------------------------------------------------------:|\n",
    "|         aList[i]        |       aList[i]        | _Accesses the element of aList at index i_                                                                                     |\n",
    "|       x ← aList[i]      |       x = aList[i]       | _Assigns the element of aList at index i <br>to a variable 'x'_                                                                |\n",
    "|       aList[i] <- x      |      aList(i) = x         | _Assigns the value of a variable 'x' to <br>the element of a List at index i_                                                  |\n",
    "|   aList[i] ← aList[j]   |       aList [i]  = aList[j]        | _Assigns value of aList[j] to aList[i]_                                                                                        |\n",
    "| INSERT(aList, value) |       aList.insert(i, value)        | _value is placed at index i in aList. Any <br>element at an index greater than i will shift<br>one position to the right. _    |\n",
    "|   APPEND(aList, value)  |      aList.append(value)         | adds a new item                                   |\n",
    "|     REMOVE(aList, value)    |      aList.pop(i)<br>OR<br>aList.remove(value)         | _Removes item at index i and any values at <br>indices greater than i shift to the left. <br>Length of aList decreased by 1. _ |\n"
   ]
  },
  {
   "cell_type": "markdown",
   "metadata": {},
   "source": [
    "## Homework Assignment\n",
    "\n",
    "Instead of us making a quiz for you to take, we would like YOU to make a quiz about the material we reviewed.\n",
    "\n",
    "We would like you to <mark>input questions into a list</mark>, and use some sort of iterative system to print the questions, detect an input, and determine if you answered correctly. There should be *at least* <mark>five questions</mark>, each with *at least* <mark>three possible answers</mark>.\n",
    "\n",
    "You may use the template below as a framework for this assignment."
   ]
  },
  {
   "cell_type": "code",
   "execution_count": null,
   "metadata": {},
   "outputs": [],
   "source": [
    "q1 = \"\"\"Which team traded Fernando Tatis Jr. to the Padres?\n",
    "a. Boston Red Sox\n",
    "b. Chicago White Sox\n",
    "c. Cincinnati Reds\n",
    "d. Seattle Mariners\"\"\"\n",
    "\n",
    "q2 = \"\"\"Which team won the NL West title in 2021?\n",
    "a. Los Angeles Dodgers\n",
    "b. San Diego Padres\n",
    "c. San Francisco Giants\n",
    "d. Arizona Diamondbacks\"\"\"\n",
    "\n",
    "q3 = \"\"\"Who hit the walk-off home run against the Cardinals which sent the Dodgers in the NLDS?\n",
    "a. Chris Taylor\n",
    "b. Trea Turner\n",
    "c. Mookie Betts\n",
    "d. Justin Turner\"\"\"\n",
    "\n",
    "q4 = \"\"\"Name the two teams in the 2019 World Series.\n",
    "a. New York Yankees, Los Angeles Dodgers\n",
    "b. Houston Astros, San Francisco Giants\n",
    "c. Washington Nationals, Tampa Bay Rays\n",
    "d. Houston Astros, Washington Nationals\"\"\"\n",
    "\n",
    "q5 = \"\"\"When did Manny Machado and Fernando Tatis Jr. make their Padres debut?\n",
    "a. 2018\n",
    "b. 2019\n",
    "c. 2020\n",
    "d. 2021\"\"\"\n",
    "\n",
    "q6 = \"\"\"Name the stadium of the Boston Red Sox.\n",
    "a. Fenway Park\n",
    "b. T-Mobile Park\n",
    "c. Minute-Maid park\n",
    "d. The Great American Ballpark\"\"\"\n",
    "\n",
    "q7 = \"\"\"Who won the 2018 AL Cy Young Award?\n",
    "a. Justin Verlander\n",
    "b. Patrick Corbin\n",
    "c. Clayton Kershaw\n",
    "d. Blake Snell\"\"\"\n",
    "\n",
    "q8 = \"\"\"In 2016, the Chicago Cubs won the World Series after how many years?\n",
    "a. 56\n",
    "b. 108\n",
    "c. 119\n",
    "d. 65\"\"\"\n",
    "\n",
    "q9 = \"\"\"Which league division are the New York Yankees in?\n",
    "a. AL Central\n",
    "b. NL East\n",
    "c. NL West\n",
    "d. AL East\"\"\"\n",
    "\n",
    "q10 = \"\"\"Which team did Brandon Drury play for?\n",
    "a. San Diego Padres\n",
    "b. New York Mets\n",
    "c. Toronto Blue Jays\n",
    "d. Arizona Diamondbacks\n",
    "e. All of the above\"\"\"\n",
    "\n",
    "questions = {q1: \"b\", q2: \"c\", q3: \"a\", q4: \"d\", q5: \"b\", q6: \"a\", q7: \"d\", q8: \"b\", q9: \"d\", q10: \"e\" }\n",
    "\n",
    "name = input(\"Enter your name: \")\n",
    "print(name, \"how many can you get right?\")\n",
    "score = 0\n",
    "for i in questions:\n",
    "    print(i)\n",
    "    ans = input(\"Choose the answer which you think is right.\")\n",
    "    if ans == questions[i]:\n",
    "        print(\"correct!\")\n",
    "        score = score+1\n",
    "    else:\n",
    "        print(\"sorry, that was incorrect.\")\n",
    "\n",
    "print(\"Your final score is \",score)"
   ]
  },
  {
   "cell_type": "markdown",
   "metadata": {},
   "source": [
    "### Hacks\n",
    "\n",
    "Here are some ideas of things you can do to make your program even cooler. Doing these will raise your grade if done correctly.\n",
    "\n",
    "- Add more than five questions with more than three answer choices\n",
    "- Randomize the order in which questions/answers are output\n",
    "- At the end, display the user's score and determine whether or not they passed\n",
    "\n",
    "## Challenges\n",
    "\n",
    "<mark>Important!</mark> You don't have to complete these challenges completely perfectly, but you will be marked down if you don't show evidence of at least having tried these challenges in the time we gave during the lesson.\n",
    "\n",
    "### 3.10 Challenge\n",
    "\n",
    "Follow the instructions in the code comments."
   ]
  },
  {
   "cell_type": "code",
   "execution_count": 3,
   "metadata": {},
   "outputs": [
    {
     "name": "stdout",
     "output_type": "stream",
     "text": [
      "carrots\n",
      "carrots\n",
      "artichokes\n",
      "['apples', 'eggs', 'artichokes', 'carrots', 'cucumbers', 'umbrellas', 'artichokes']\n"
     ]
    }
   ],
   "source": [
    "grocery_list = ['apples', 'milk', 'oranges', 'carrots', 'cucumbers']\n",
    "\n",
    "\n",
    "print(grocery_list[3])\n",
    "# Now, assign the fourth item in the list to a variable, x and then print the variable\n",
    "i = 3\n",
    "x = grocery_list[i] \n",
    "print(x) \n",
    "\n",
    "# Add these two items at the end of the list : umbrellas and artichokes\n",
    "grocery_list.append(\"umbrellas\")\n",
    "grocery_list.append(\"artichokes\")\n",
    "\n",
    "# Insert the item eggs as the third item of the list \n",
    "grocery_list.insert(2, 'eggs')\n",
    "\n",
    "# Remove milk from the list \n",
    "grocery_list.remove('milk')\n",
    "\n",
    "# grocery_list.pop(1)\n",
    "\n",
    "# Assign the element at the end of the list to index 2. Print index 2 to check\n",
    "\n",
    "grocery_list[2] = grocery_list[6]\n",
    "print(grocery_list[2])\n",
    "# Print the entire list, does it match ours ? \n",
    "print(grocery_list)\n",
    "\n",
    "# Expected output\n",
    "# carrots\n",
    "# carrots\n",
    "# artichokes\n",
    "# ['apples', 'eggs', 'artichokes', 'carrots', 'cucumbers', 'umbrellas', 'artichokes']"
   ]
  },
  {
   "cell_type": "code",
   "execution_count": null,
   "metadata": {},
   "outputs": [],
   "source": []
  },
  {
   "cell_type": "markdown",
   "metadata": {},
   "source": [
    "### 3.8 Challenge\n",
    "\n",
    "Create a loop that <mark>converts 8-bit binary values</mark> from the provided list into <mark>decimal numbers</mark>. Then, after the value is determined, <mark>remove all the values greater than 100</mark> from the list using a list-related function you've been taught before. <mark>Print the new list</mark> when done.\n",
    "\n",
    "Once you've done this with one of the types of loops discussed in this lesson, create a function that does the same thing with a *different* type of loop."
   ]
  },
  {
   "cell_type": "code",
   "execution_count": 2,
   "metadata": {},
   "outputs": [
    {
     "ename": "NameError",
     "evalue": "name 'decimal' is not defined",
     "output_type": "error",
     "traceback": [
      "\u001b[0;31m---------------------------------------------------------------------------\u001b[0m",
      "\u001b[0;31mNameError\u001b[0m                                 Traceback (most recent call last)",
      "\u001b[1;32m/mnt/c/Users/rohan/vscode/RohanRepository/_notebooks/2022-11-26-listanditerationhomework.ipynb Cell 9\u001b[0m in \u001b[0;36m<cell line: 16>\u001b[0;34m()\u001b[0m\n\u001b[1;32m     <a href='vscode-notebook-cell://wsl%2Bubuntu/mnt/c/Users/rohan/vscode/RohanRepository/_notebooks/2022-11-26-listanditerationhomework.ipynb#X13sdnNjb2RlLXJlbW90ZQ%3D%3D?line=13'>14</a>\u001b[0m             i \u001b[39m-\u001b[39m\u001b[39m=\u001b[39m \u001b[39m1\u001b[39m\n\u001b[1;32m     <a href='vscode-notebook-cell://wsl%2Bubuntu/mnt/c/Users/rohan/vscode/RohanRepository/_notebooks/2022-11-26-listanditerationhomework.ipynb#X13sdnNjb2RlLXJlbW90ZQ%3D%3D?line=14'>15</a>\u001b[0m             \u001b[39mcontinue\u001b[39;00m\n\u001b[0;32m---> <a href='vscode-notebook-cell://wsl%2Bubuntu/mnt/c/Users/rohan/vscode/RohanRepository/_notebooks/2022-11-26-listanditerationhomework.ipynb#X13sdnNjb2RlLXJlbW90ZQ%3D%3D?line=15'>16</a>\u001b[0m decimalist\u001b[39m.\u001b[39mappend(decimal)\n\u001b[1;32m     <a href='vscode-notebook-cell://wsl%2Bubuntu/mnt/c/Users/rohan/vscode/RohanRepository/_notebooks/2022-11-26-listanditerationhomework.ipynb#X13sdnNjb2RlLXJlbW90ZQ%3D%3D?line=17'>18</a>\u001b[0m \u001b[39mif\u001b[39;00m (binarylist) \u001b[39m<\u001b[39m \u001b[39m100\u001b[39m:\n\u001b[1;32m     <a href='vscode-notebook-cell://wsl%2Bubuntu/mnt/c/Users/rohan/vscode/RohanRepository/_notebooks/2022-11-26-listanditerationhomework.ipynb#X13sdnNjb2RlLXJlbW90ZQ%3D%3D?line=18'>19</a>\u001b[0m     binarylist\u001b[39m.\u001b[39mpop(i)\n",
      "\u001b[0;31mNameError\u001b[0m: name 'decimal' is not defined"
     ]
    }
   ],
   "source": [
    "binarylist = [\n",
    "    \"01001001\", \"10101010\", \"10010110\", \"00110111\", \"11101100\", \"11010001\", \"10000001\"\n",
    "]\n",
    "decimalist = []\n",
    "def binary_convert(binary):\n",
    "    decimal = 0\n",
    "    i = 5\n",
    "    for num in str(binary):\n",
    "        if int(num) == 1:\n",
    "            decimal += 2**i\n",
    "            i -= 1\n",
    "            continue\n",
    "        else:\n",
    "            i -= 1\n",
    "            continue\n",
    "decimalist.append(decimal)\n",
    "\n",
    "if (binarylist) < 100:\n",
    "    binarylist.pop(i)\n",
    "\n",
    "#when done, print the results"
   ]
  },
  {
   "cell_type": "markdown",
   "metadata": {},
   "source": [
    "## Struggles\n",
    "\n",
    "- There were a few problems which I encountered when it came to naming the lists and using them in the right manner\n",
    "- How to properly use for loops\n",
    "- When I looked at other people's code there was a learning opportunity: \n",
    "- I noticed that there was a new list for the decimal values. I then saw that there was another for loop running for the original list, and that would convert it to a decimal.\n",
    "- if the decimal was over 100, that specific value was thrown out."
   ]
  }
 ],
 "metadata": {
  "kernelspec": {
   "display_name": "Python 3.8.10 64-bit",
   "language": "python",
   "name": "python3"
  },
  "language_info": {
   "codemirror_mode": {
    "name": "ipython",
    "version": 3
   },
   "file_extension": ".py",
   "mimetype": "text/x-python",
   "name": "python",
   "nbconvert_exporter": "python",
   "pygments_lexer": "ipython3",
   "version": "3.8.10"
  },
  "orig_nbformat": 4,
  "vscode": {
   "interpreter": {
    "hash": "916dbcbb3f70747c44a77c7bcd40155683ae19c65e1c03b4aa3499c5328201f1"
   }
  }
 },
 "nbformat": 4,
 "nbformat_minor": 2
}
