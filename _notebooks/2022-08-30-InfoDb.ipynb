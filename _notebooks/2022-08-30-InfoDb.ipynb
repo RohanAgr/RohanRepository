{
 "cells": [
  {
   "cell_type": "markdown",
   "metadata": {},
   "source": [
    "---\n",
    "Title: MLB Players\n",
    "layout: notebook\n",
    "categories: [notebooks]\n",
    "---\n",
    "\n",
    "> This post contains some information about two of my favorite baseball players. "
   ]
  },
  {
   "cell_type": "code",
   "execution_count": 26,
   "metadata": {},
   "outputs": [],
   "source": [
    "#Information on Manny Machado and Aaron Judge\n",
    "\n",
    "#Append to player profile of Manny Machado in his 10 year career in MLB\n",
    "InfoDb = []\n",
    "InfoDb.append({\n",
    "    \"FirstName\": \"Manny\",\n",
    "    \"LastName\": \"Machado\",\n",
    "    \"Position\": \"Third Base\",\n",
    "    \"MLB Debut\": \"August 9, 2012\",\n",
    "    \"Batting Average\": \".282\",\n",
    "    \"Career OPS\": \".833\",\n",
    "    \"Teams\": [\"Baltimore Orioles\", \"Los Angeles Dodgers\", \"San Diego Padres\"]\n",
    "})\n",
    "#Append to player profile of Aaron Judge in his 6 year career in MLB\n",
    "InfoDb.append({\n",
    "    \"FirstName\": \"Aaron\",\n",
    "    \"LastName\": \"Judge\",\n",
    "    \"Position\": \"Outfield\",\n",
    "    \"MLB Debut\": \"August 13, 2016\",\n",
    "    \"Batting Average\": \".280\",\n",
    "    \"Career OPS\": \".963\",\n",
    "    \"Teams\": [\"New York Yankees\"]\n",
    "})"
   ]
  },
  {
   "cell_type": "code",
   "execution_count": 27,
   "metadata": {},
   "outputs": [
    {
     "name": "stdout",
     "output_type": "stream",
     "text": [
      "For loop output\n",
      "\n",
      "Manny Machado\n",
      "\t Position: Third Base\n",
      "\t MLB Debut: August 9, 2012\n",
      "\t Batting Average: .282\n",
      "\t Career OPS: .833\n",
      "\t Teams: Baltimore Orioles, Los Angeles Dodgers, San Diego Padres\n",
      "\n",
      "Aaron Judge\n",
      "\t Position: Outfield\n",
      "\t MLB Debut: August 13, 2016\n",
      "\t Batting Average: .280\n",
      "\t Career OPS: .963\n",
      "\t Teams: New York Yankees\n",
      "\n"
     ]
    }
   ],
   "source": [
    "#Printing the databases for Manny Machado and Aaron Judge\n",
    "def print_data(d_rec):\n",
    "    print(d_rec[\"FirstName\"], d_rec[\"LastName\"])\n",
    "    print(\"\\t\", \"Position:\", d_rec[\"Position\"])\n",
    "    print(\"\\t\", \"MLB Debut:\", d_rec[\"MLB Debut\"])\n",
    "    print(\"\\t\", \"Batting Average:\", d_rec[\"Batting Average\"])\n",
    "    print(\"\\t\", \"Career OPS:\", d_rec[\"Career OPS\"])\n",
    "    print(\"\\t\", \"Teams: \", end=\"\")\n",
    "    print(\", \".join(d_rec[\"Teams\"]))\n",
    "    print()\n",
    "\n",
    "def for_loop():\n",
    "    print(\"For loop output\\n\")\n",
    "    for record in InfoDb:\n",
    "        print_data(record)\n",
    "\n",
    "for_loop()\n"
   ]
  }
 ],
 "metadata": {
  "kernelspec": {
   "display_name": "Python 3.8.10 64-bit",
   "language": "python",
   "name": "python3"
  },
  "language_info": {
   "codemirror_mode": {
    "name": "ipython",
    "version": 3
   },
   "file_extension": ".py",
   "mimetype": "text/x-python",
   "name": "python",
   "nbconvert_exporter": "python",
   "pygments_lexer": "ipython3",
   "version": "3.8.10"
  },
  "orig_nbformat": 4,
  "vscode": {
   "interpreter": {
    "hash": "916dbcbb3f70747c44a77c7bcd40155683ae19c65e1c03b4aa3499c5328201f1"
   }
  }
 },
 "nbformat": 4,
 "nbformat_minor": 2
}
