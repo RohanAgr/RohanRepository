{
 "cells": [
  {
   "cell_type": "markdown",
   "metadata": {},
   "source": [
    "# Note Template\n",
    "- comments: true"
   ]
  },
  {
   "cell_type": "markdown",
   "metadata": {},
   "source": [
    "# Take some additional notes that you would like here for 3.12 and 3.13. We will be looking for additional notes from the presentation. \n"
   ]
  },
  {
   "cell_type": "markdown",
   "metadata": {},
   "source": [
    "# What are procedures?\n",
    "\n",
    "**Fill in the blanks please:**\n",
    "\n",
    "Procedure: \n",
    "named group of programming instructions that may have parameters and return values\n",
    "Parameters:\n",
    "input values\n",
    "Arguments:\n",
    "specify the values of parameters\n",
    "Modularity: \n",
    "modules!\n",
    "Procedural Abstraction: \n",
    "name pr a process that allows for an understanding of the procedure\n",
    "What are some other names for procedures?: pseudocode\n",
    "\n",
    "Why are procedures effective?:  can help simplify the code, and we know what to look for and code in the actual program\n"
   ]
  },
  {
   "attachments": {},
   "cell_type": "markdown",
   "metadata": {},
   "source": [
    "## <mark>Challenge 1</mark> below: Add the command that will **call** the procedure. "
   ]
  },
  {
   "cell_type": "code",
   "execution_count": 2,
   "metadata": {},
   "outputs": [
    {
     "name": "stdout",
     "output_type": "stream",
     "text": [
      "\n"
     ]
    }
   ],
   "source": [
    "def BinaryConvert(number):\n",
    "## recursive code \n",
    "    if number >= 1: \n",
    "        BinaryConvert(number // 2) ##based on the power of 2, it will shift the 0 or 1 right\n",
    "    print(number % 2, end = '') ## the end function prevents it from printing a new line --> binary output is only one line.\n",
    "\n",
    "    # Driver Code\n",
    "number = 31\n",
    "BinaryConvert(number)"
   ]
  },
  {
   "attachments": {},
   "cell_type": "markdown",
   "metadata": {},
   "source": [
    "## <mark>Challenge 2</mark> below: Complete the Min and Max procedure in either JavaScript and Python using the instructions from the JavaScript page. (JavaScript will get you a extra 0.1)"
   ]
  },
  {
   "cell_type": "code",
   "execution_count": 1,
   "metadata": {},
   "outputs": [
    {
     "data": {
      "text/plain": [
       "NaN"
      ]
     },
     "execution_count": 1,
     "metadata": {},
     "output_type": "execute_result"
    }
   ],
   "source": [
    "const nums = [1, 2, 3, 4, 5, ,6]\n",
    "Math.min(nums)\n",
    "Math.max(nums)"
   ]
  },
  {
   "attachments": {},
   "cell_type": "markdown",
   "metadata": {},
   "source": [
    "## <mark>Homework/Hacks</mark>: For the hw, you have two options, easy or hard. The easy hack is for a 2.7 + extra work for the full 3. The easy hack is simply creating your own procedure with your own creativity. Since there is a lot of leeway for this one, you must do additional work to get a 3. For the hard hack, below is the start to a character to binary convertor. This is just a template, but the goal is to translate \"APCSP\" into binary. You can delete the existing code if you want. The only contraint is that you must use a procedure. Doing this will get you a 3. "
   ]
  },
  {
   "cell_type": "code",
   "execution_count": 2,
   "metadata": {},
   "outputs": [
    {
     "ename": "ReferenceError",
     "evalue": "LogItType is not defined",
     "output_type": "error",
     "traceback": [
      "evalmachine.<anonymous>:19",
      "LogItType(manager);",
      "^",
      "",
      "ReferenceError: LogItType is not defined",
      "    at evalmachine.<anonymous>:19:1",
      "    at ContextifyScript.Script.runInThisContext (vm.js:25:33)",
      "    at Object.runInThisContext (vm.js:97:38)",
      "    at run ([eval]:1020:15)",
      "    at onRunRequest ([eval]:864:18)",
      "    at onMessage ([eval]:828:13)",
      "    at emitTwo (events.js:106:13)",
      "    at process.emit (events.js:191:7)",
      "    at process.nextTick (internal/child_process.js:758:12)",
      "    at _combinedTickCallback (internal/process/next_tick.js:73:7)"
     ]
    }
   ],
   "source": [
    "function Player(name, position, average) {\n",
    "    this.name = name;\n",
    "    this.position = position;\n",
    "    this.average = average;\n",
    "    this.role = \"\";\n",
    "}\n",
    "\n",
    "Player.prototype.setRole = function(role) {\n",
    "    this.role = role;\n",
    "}\n",
    "\n",
    "Player.prototype.toJSON = function() {\n",
    "    const obj = {name: this.name, position: this.position, average: this.average, role: this.role};\n",
    "    const json = JSON.stringify(obj);\n",
    "    return json;\n",
    "}\n",
    "\n",
    "var manager = new Player(\"Bob Melvin\", \"Catcher\", \".233\");\n",
    "LogItType(manager);\n",
    "LogItType(manager.toJSON());\n",
    "\n",
    "manager.setRole(\"Manager\");\n",
    "LogItType(manager);\n",
    "LogItType(manager.toJSON());"
   ]
  },
  {
   "cell_type": "code",
   "execution_count": null,
   "metadata": {},
   "outputs": [],
   "source": [
    "var players = [\n",
    "    new Player(\"Manny Machado\", \"Third Base\", \".299\"),\n",
    "    new Player(\"Trent Grisham\", \"Center Field\", \".185\"),\n",
    "    new Player(\"Jake Cronenworth\", \"Second Base\", \".238\"),\n",
    "    new Player(\"Jurickson Profar\", \"Left Field\", \".240\"),\n",
    "    new Player(\"Ha-Seong Kim\", \"Shortstop\", \".252\"),\n",
    "    new Player(\"Brandon Drury\", \"First Base\", \".226\"),\n",
    "    new Player(\"Jorge Alfaro\", \"Catcher\", \".249\"),\n",
    "    new Player(\"Wil Myers\", \"Right Field, First Base\", \".255\"),\n",
    "    new Player(\"Juan Soto\", \"Right Field\", \".242\"),\n",
    "    new Player(\"Austin Nola\", \"Catcher\", \".248\"),\n",
    "    new Player(\"Josh Bell\", \"Designated Hitter, First Base\", \".191\"),\n",
    "    new Player(\"Jose Azocar\", \"Outfield\", \".272\"), \n",
    "];\n",
    "\n",
    "function Padres(manager, players){\n",
    "\n",
    "    manager.setRole(\"Manager\");\n",
    "    this.manager = manager;\n",
    "    this.padres = [manager];\n",
    "    \n",
    "    this.players = players;\n",
    "    this.players.forEach(player => { player.setRole(\"Player\"); this.padres.push(player); });\n",
    "\n",
    "    this.json = [];\n",
    "    this.padres.forEach(player => this.json.push(player.toJSON()));\n",
    "}\n",
    "\n",
    "sd2022 = new Padres(manager, players);\n",
    "\n",
    "LogItType(sd2022.padres);\n",
    "LogItType(sd2022.padres[0].name);\n",
    "LogItType(sd2022.json[0]);\n",
    "LogItType(JSON.parse(sd2022.json[0]));\n"
   ]
  },
  {
   "cell_type": "code",
   "execution_count": null,
   "metadata": {},
   "outputs": [],
   "source": [
    "Padres.prototype._toHtml = function() {\n",
    "    var style = (\n",
    "        \"display:inline-block;\" +\n",
    "        \"border: 2px solid grey;\" +\n",
    "        \"box-shadow: 0.8em 0.4em 0.4em grey;\"\n",
    "    );\n",
    "\n",
    "    var body = \"\";\n",
    "    body += \"<tr>\";\n",
    "    body += \"<th><mark>\" + \"Name\" + \"</mark></th>\";\n",
    "    body += \"<th><mark>\" + \"Position\" + \"</mark></th>\";\n",
    "    body += \"<th><mark>\" + \"Batting Average\" + \"</mark></th>\";\n",
    "    body += \"<th><mark>\" + \"Role\" + \"</mark></th>\";\n",
    "    body += \"</tr>\";\n",
    "    \n",
    "    for (var row of sd2022.padres) {\n",
    "        \n",
    "        body += \"<tr>\";\n",
    "        \n",
    "        body += \"<td>\" + row.name + \"</td>\";\n",
    "        body += \"<td>\" + row.position + \"</td>\";\n",
    "        body += \"<td>\" + row.average + \"</td>\";\n",
    "        body += \"<td>\" + row.role + \"</td>\";\n",
    "        \n",
    "        body += \"<tr>\";\n",
    "      }\n",
    "    \n",
    "       \n",
    "      return (\n",
    "        \"<div style='\" + style + \"'>\" +\n",
    "          \"<table>\" +\n",
    "            body +\n",
    "          \"</table>\" +\n",
    "        \"</div>\"\n",
    "      );\n",
    "    \n",
    "    };\n",
    "    \n",
    "    \n",
    "    $$.html(sd2022._toHtml());\n"
   ]
  }
 ],
 "metadata": {
  "kernelspec": {
   "display_name": "JavaScript (Node.js)",
   "language": "javascript",
   "name": "javascript"
  },
  "language_info": {
   "file_extension": ".js",
   "mimetype": "application/javascript",
   "name": "javascript",
   "version": "6.11.2"
  },
  "orig_nbformat": 4,
  "vscode": {
   "interpreter": {
    "hash": "18199bb2938692f81726a814268c7c4b08836ae887eb079b5324629a624df571"
   }
  }
 },
 "nbformat": 4,
 "nbformat_minor": 2
}
