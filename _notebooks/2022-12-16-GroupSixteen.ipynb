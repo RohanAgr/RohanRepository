{
 "cells": [
  {
   "attachments": {},
   "cell_type": "markdown",
   "metadata": {},
   "source": [
    "# Unit 3 Lesson 16, Student Copy\n",
    "- toc: true\n",
    "- comments: true\n"
   ]
  },
  {
   "attachments": {},
   "cell_type": "markdown",
   "metadata": {},
   "source": [
    "### Hack #1 - Class Notes\n",
    "\n",
    "Write any extra notes you have here\n",
    "\n",
    "Simulations - abstractions that mimic more complex realities, problems, or phenomena.\n",
    "ex: school daily routines...\n",
    "- necessary to remove specific details or simplify aspects \n",
    "- allow for formulation of hypothesis\n",
    "- varying set of values to reflect a changing state "
   ]
  },
  {
   "attachments": {},
   "cell_type": "markdown",
   "metadata": {},
   "source": [
    "### Hack #2 - Functions Classwork"
   ]
  },
  {
   "cell_type": "code",
   "execution_count": 2,
   "metadata": {},
   "outputs": [
    {
     "ename": "NameError",
     "evalue": "name 'myclothes' is not defined",
     "output_type": "error",
     "traceback": [
      "\u001b[0;31m---------------------------------------------------------------------------\u001b[0m",
      "\u001b[0;31mNameError\u001b[0m                                 Traceback (most recent call last)",
      "\u001b[1;32m/mnt/c/Users/rohan/vscode/RohanRepository/_notebooks/2022-12-16-GroupSixteen.ipynb Cell 4\u001b[0m in \u001b[0;36m<cell line: 10>\u001b[0;34m()\u001b[0m\n\u001b[1;32m      <a href='vscode-notebook-cell://wsl%2Bubuntu/mnt/c/Users/rohan/vscode/RohanRepository/_notebooks/2022-12-16-GroupSixteen.ipynb#X21sdnNjb2RlLXJlbW90ZQ%3D%3D?line=5'>6</a>\u001b[0m     y \u001b[39m=\u001b[39m random\u001b[39m.\u001b[39mrandint(\u001b[39m2\u001b[39m, newbies)\n\u001b[1;32m      <a href='vscode-notebook-cell://wsl%2Bubuntu/mnt/c/Users/rohan/vscode/RohanRepository/_notebooks/2022-12-16-GroupSixteen.ipynb#X21sdnNjb2RlLXJlbW90ZQ%3D%3D?line=7'>8</a>\u001b[0m     \u001b[39mreturn\u001b[39;00m mycloset()\n\u001b[0;32m---> <a href='vscode-notebook-cell://wsl%2Bubuntu/mnt/c/Users/rohan/vscode/RohanRepository/_notebooks/2022-12-16-GroupSixteen.ipynb#X21sdnNjb2RlLXJlbW90ZQ%3D%3D?line=9'>10</a>\u001b[0m mycloset()\n",
      "\u001b[1;32m/mnt/c/Users/rohan/vscode/RohanRepository/_notebooks/2022-12-16-GroupSixteen.ipynb Cell 4\u001b[0m in \u001b[0;36mmycloset\u001b[0;34m()\u001b[0m\n\u001b[1;32m      <a href='vscode-notebook-cell://wsl%2Bubuntu/mnt/c/Users/rohan/vscode/RohanRepository/_notebooks/2022-12-16-GroupSixteen.ipynb#X21sdnNjb2RlLXJlbW90ZQ%3D%3D?line=2'>3</a>\u001b[0m clothes \u001b[39m=\u001b[39m [\u001b[39m\"\u001b[39m\u001b[39mPadres Hoodie\u001b[39m\u001b[39m\"\u001b[39m \u001b[39m\"\u001b[39m\u001b[39mJeans\u001b[39m\u001b[39m\"\u001b[39m \u001b[39m\"\u001b[39m\u001b[39mShoes\u001b[39m\u001b[39m\"\u001b[39m ]\n\u001b[1;32m      <a href='vscode-notebook-cell://wsl%2Bubuntu/mnt/c/Users/rohan/vscode/RohanRepository/_notebooks/2022-12-16-GroupSixteen.ipynb#X21sdnNjb2RlLXJlbW90ZQ%3D%3D?line=3'>4</a>\u001b[0m newbies \u001b[39m=\u001b[39m [\u001b[39m\"\u001b[39m\u001b[39mYellowstone Merch\u001b[39m\u001b[39m\"\u001b[39m \u001b[39m\"\u001b[39m\u001b[39mTrack Pants\u001b[39m\u001b[39m\"\u001b[39m \u001b[39m\"\u001b[39m\u001b[39mFlipFlops\u001b[39m\u001b[39m\"\u001b[39m]\n\u001b[0;32m----> <a href='vscode-notebook-cell://wsl%2Bubuntu/mnt/c/Users/rohan/vscode/RohanRepository/_notebooks/2022-12-16-GroupSixteen.ipynb#X21sdnNjb2RlLXJlbW90ZQ%3D%3D?line=4'>5</a>\u001b[0m x \u001b[39m=\u001b[39m random\u001b[39m.\u001b[39mrandint(\u001b[39m2\u001b[39m, myclothes)\n\u001b[1;32m      <a href='vscode-notebook-cell://wsl%2Bubuntu/mnt/c/Users/rohan/vscode/RohanRepository/_notebooks/2022-12-16-GroupSixteen.ipynb#X21sdnNjb2RlLXJlbW90ZQ%3D%3D?line=5'>6</a>\u001b[0m y \u001b[39m=\u001b[39m random\u001b[39m.\u001b[39mrandint(\u001b[39m2\u001b[39m, newbies)\n\u001b[1;32m      <a href='vscode-notebook-cell://wsl%2Bubuntu/mnt/c/Users/rohan/vscode/RohanRepository/_notebooks/2022-12-16-GroupSixteen.ipynb#X21sdnNjb2RlLXJlbW90ZQ%3D%3D?line=7'>8</a>\u001b[0m \u001b[39mreturn\u001b[39;00m mycloset()\n",
      "\u001b[0;31mNameError\u001b[0m: name 'myclothes' is not defined"
     ]
    }
   ],
   "source": [
    "import random\n",
    "def mycloset():\n",
    "    clothes = [\"Padres Hoodie\" \"Jeans\" \"Shoes\" ]\n",
    "    newbies = [\"Yellowstone Merch\" \"Track Pants\" \"FlipFlops\"]\n",
    "    x = random.randint(2, myclothes)\n",
    "    y = random.randint(2, newbies)\n",
    "\n",
    "    return mycloset()\n",
    "\n",
    "mycloset()"
   ]
  },
  {
   "cell_type": "code",
   "execution_count": 4,
   "metadata": {},
   "outputs": [
    {
     "name": "stdout",
     "output_type": "stream",
     "text": [
      "Heads\n",
      "Heads\n",
      "Heads\n",
      "Heads\n",
      "Tails\n"
     ]
    }
   ],
   "source": [
    "import random\n",
    "\n",
    "def coinflip():         #def function \n",
    "    randomflip = random.randint(0, 2 ) \n",
    "    if randomflip == 0 or randomflip == 1: \n",
    "        print(\"Heads\")\n",
    "    else:\n",
    "        if randomflip == 2: \n",
    "            print(\"Tails\")\n",
    "\n",
    "t1 = coinflip()\n",
    "t2 = coinflip()\n",
    "t3 = coinflip()\n",
    "t4 = coinflip()\n",
    "t5 = coinflip()"
   ]
  },
  {
   "cell_type": "code",
   "execution_count": 6,
   "metadata": {},
   "outputs": [
    {
     "ename": "IndentationError",
     "evalue": "expected an indented block (137377371.py, line 24)",
     "output_type": "error",
     "traceback": [
      "\u001b[0;36m  Input \u001b[0;32mIn [6]\u001b[0;36m\u001b[0m\n\u001b[0;31m    answer = ask_question()\u001b[0m\n\u001b[0m    ^\u001b[0m\n\u001b[0;31mIndentationError\u001b[0m\u001b[0;31m:\u001b[0m expected an indented block\n"
     ]
    }
   ],
   "source": [
    "from random import choice\n",
    "\n",
    "questions = [\n",
    "    (\"What is 3+2\", \"5\"),\n",
    "    (\"What is 1+1?\", \"2\"),\n",
    "    (\"what is 2+1\", \"3\"),\n",
    "]\n",
    "\n",
    "\n",
    "def ask_question():\n",
    "    question, answer = choice(questions)\n",
    "    print(question)\n",
    "\n",
    "    response = input()\n",
    "\n",
    "    return response == answer\n",
    "\n",
    "correct = 0\n",
    "\n",
    "answer = ask_question()\n",
    "Q1 = input()\n",
    "if Q1 == answer:\n",
    "    \n",
    "answer = ask_question()\n",
    "    Q2 = input()\n",
    "        if Q2 == answer:\n",
    "   \n",
    "Q3 = input()\n",
    "if Q3 == :\n",
    "   \n",
    "\n",
    "Q4 = input()\n",
    "\n",
    "\n",
    "print( \" you scored \" + str(correct) +\"/\" + str(questions))\n"
   ]
  },
  {
   "cell_type": "markdown",
   "metadata": {},
   "source": [
    "### Hack #3 - Binary Simulation Problem"
   ]
  },
  {
   "cell_type": "code",
   "execution_count": null,
   "metadata": {},
   "outputs": [],
   "source": [
    "# insert your zombie simulation here; you don't have to use this template but it will help you get started\n",
    "\n",
    "import random\n",
    "\n",
    "def randomnum(): # function for generating random int\n",
    "    generator = random.randint(0, 255)\n",
    "    return x\n",
    "\n",
    "def converttobin(n): # function for converting decimal to binary\n",
    "    --\n",
    "\n",
    "def survivors(binary): # function to assign position\n",
    "    survivorstatus = [\"Jiya\", \"Shruthi\", \"Noor\", \"Ananya\" , \"Peter Parker\", \"Andrew Garfield\", \"Tom Holland\", \"Tobey Maguire\"]\n",
    "    for bin in binary:\n",
    "        if bin = 0:\n",
    "        print (survivorstatus[bin] \"is a zombie\")\n",
    "        else:\n",
    "            print (survivorstatus[num] \"is a survivor\")\n",
    "    # replace the names above with your choice of people in the house"
   ]
  },
  {
   "cell_type": "markdown",
   "metadata": {},
   "source": [
    "### Hack #4 - Thinking through a problem\n",
    "- create your own simulation involving a dice roll\n",
    "- should include randomization and a function for rolling + multiple trials"
   ]
  },
  {
   "cell_type": "code",
   "execution_count": 7,
   "metadata": {},
   "outputs": [
    {
     "name": "stdout",
     "output_type": "stream",
     "text": [
      "Roll 1: 2\n",
      "Roll 2: 5\n",
      "Roll 3: 1\n",
      "Roll 4: 1\n",
      "Roll 5: 4\n",
      "Roll 6: 5\n"
     ]
    }
   ],
   "source": [
    "import random\n",
    "def diceroll():\n",
    "    x = random.randint(1,6)\n",
    "    return x\n",
    "\n",
    "roll1 = diceroll()\n",
    "roll2 = diceroll()\n",
    "roll3 = diceroll()\n",
    "roll4 = diceroll()\n",
    "roll5 = diceroll()\n",
    "roll6 = diceroll()\n",
    "print(\"Roll 1:\", roll1)\n",
    "print(\"Roll 2:\", roll2)\n",
    "print(\"Roll 3:\", roll3)\n",
    "print(\"Roll 4:\", roll4)\n",
    "print(\"Roll 5:\", roll5)\n",
    "print(\"Roll 6:\", roll6)"
   ]
  },
  {
   "attachments": {},
   "cell_type": "markdown",
   "metadata": {},
   "source": [
    "### Hack 5 - Applying your knowledge to situation based problems\n",
    "\n",
    "Using the questions bank below, create a quiz that presents the user a random question and calculates the user's score. You can use the template below or make your own. Making your own using a loop can give you extra points. "
   ]
  },
  {
   "attachments": {},
   "cell_type": "markdown",
   "metadata": {},
   "source": [
    "1. A researcher gathers data about the effect of Advanced Placement®︎ classes on students' success in college and career, and develops a simulation to show how a sequence of AP classes affect a hypothetical student's pathway.Several school administrators are concerned that the simulation contains bias favoring high-income students, however.\n",
    "    - answer options:\n",
    "        1. The simulation is an abstraction and therefore cannot contain any bias\n",
    "        2. The simulation may accidentally contain bias due to the exclusion of details.\n",
    "        3. If the simulation is found to contain bias, then it is not possible to remove the bias from the simulation.\n",
    "        4. The only way for the simulation to be biased is if the researcher intentionally used data that favored their desired output.\n",
    "2. Jack is trying to plan his financial future using an online tool. The tool starts off by asking him to input details about his current finances and career. It then lets him choose different future scenarios, such as having children. For each scenario chosen, the tool does some calculations and outputs his projected savings at the ages of 35, 45, and 55.Would that be considered a simulation and why?\n",
    "    - answer options\n",
    "        1. No, it's not a simulation because it does not include a visualization of the results.\n",
    "        2. No, it's not a simulation because it does not include all the details of his life history and the future financial environment.\n",
    "        3. Yes, it's a simulation because it runs on a computer and includes both user input and computed output.\n",
    "        4. Yes, it's a simulation because it is an abstraction of a real world scenario that enables the drawing of inferences.\n",
    "3. Sylvia is an industrial engineer working for a sporting goods company. She is developing a baseball bat that can hit balls with higher accuracy and asks their software engineering team to develop a simulation to verify the design.Which of the following details is most important to include in this simulation?\n",
    "    - answer options\n",
    "        1. Realistic sound effects based on the material of the baseball bat and the velocity of the hit\n",
    "        2. A depiction of an audience in the stands with lifelike behavior in response to hit accuracy\n",
    "        3. Accurate accounting for the effects of wind conditions on the movement of the ball\n",
    "        4. A baseball field that is textured to differentiate between the grass and the dirt\n",
    "4. Ashlynn is an industrial engineer who is trying to design a safer parachute. She creates a computer simulation of the parachute opening at different heights and in different environmental conditions.What are advantages of running the simulation versus an actual experiment?\n",
    "    - answer options\n",
    "        1. The simulation will not contain any bias that favors one body type over another, while an experiment will be biased.\n",
    "        2. The simulation can be run more safely than an actual experiment\n",
    "        3. The simulation will accurately predict the parachute's safety level, while an experiment may be inaccurate due to faulty experimental design.\n",
    "        4. The simulation can test the parachute design in a wide range of environmental conditions that may be difficult to reliably reproduce in an experiment.\n",
    "    * this question has 2 correct answers\n",
    "5. YOUR OWN QUESTION; can be situational, pseudo code based, or vocab/concept based\n",
    "6. YOUR OWN QUESTION; can be situational, pseudo code based, or vocab/concept based"
   ]
  },
  {
   "cell_type": "code",
   "execution_count": null,
   "metadata": {},
   "outputs": [],
   "source": [
    "from random import choice\n",
    "\n",
    "questions = [\n",
    "    (\"What is 3+2\", \"5\"),\n",
    "    (\"What is 1+1?\", \"2\"),\n",
    "    (\"what is 2+1\", \"3\"),\n",
    "]\n",
    "\n",
    "\n",
    "def ask_question():\n",
    "    question, answer = choice(questions)\n",
    "    print(question)\n",
    "\n",
    "    response = input()\n",
    "\n",
    "    return response == answer\n",
    "\n",
    "correct = 0\n",
    "\n",
    "answer = ask_question()\n",
    "Q1 = input()\n",
    "if Q1 == answer:\n",
    "    \n",
    "answer = ask_question()\n",
    "    Q2 = input()\n",
    "        if Q2 == answer:\n",
    "   \n",
    "Q3 = input()\n",
    "if Q3 == :\n",
    "   \n",
    "\n",
    "Q4 = input()\n",
    "\n",
    "\n",
    "print( \" you scored \" + str(correct) +\"/\" + str(questions))\n"
   ]
  },
  {
   "attachments": {},
   "cell_type": "markdown",
   "metadata": {},
   "source": [
    "### Hack #6 / Challenge - Taking real life problems and implementing them into code"
   ]
  },
  {
   "attachments": {},
   "cell_type": "markdown",
   "metadata": {},
   "source": [
    "Create your own simulation based on your experiences/knowledge!\n",
    "Be creative! Think about instances in your own life, science, puzzles that can be made into simulations\n",
    "\n",
    "Some ideas to get your brain running: A simulation that breeds two plants and tells you phenotypes of offspring, an adventure simulation..."
   ]
  },
  {
   "cell_type": "code",
   "execution_count": null,
   "metadata": {},
   "outputs": [],
   "source": [
    "cereals = [\"Cheerios\", \"Frosted Flakes\", \"Cocoa Puffs\", \"Lucky Charms\"] ## Which cereal am I going to eat for breakfast?\n",
    "\n",
    "def pick_cereal(desired_cereal):\n",
    "    if desired_cereal in cereals:\n",
    "        return f\"{desired_cereal} is a great choice!\"\n",
    "    else:\n",
    "        return \"Sorry, that cereal is not available.\"\n",
    "\n",
    "print(pick_cereal(\"Cheerios\"))  # Output: \"Cheerios is a great choice!\"\n",
    "print(pick_cereal(\"Raisin Bran\"))  # Output: \"Sorry, that cereal is not available.\""
   ]
  }
 ],
 "metadata": {
  "kernelspec": {
   "display_name": "Python 3",
   "language": "python",
   "name": "python3"
  },
  "language_info": {
   "codemirror_mode": {
    "name": "ipython",
    "version": 3
   },
   "file_extension": ".py",
   "mimetype": "text/x-python",
   "name": "python",
   "nbconvert_exporter": "python",
   "pygments_lexer": "ipython3",
   "version": "3.8.10"
  },
  "orig_nbformat": 4,
  "vscode": {
   "interpreter": {
    "hash": "916dbcbb3f70747c44a77c7bcd40155683ae19c65e1c03b4aa3499c5328201f1"
   }
  }
 },
 "nbformat": 4,
 "nbformat_minor": 2
}
