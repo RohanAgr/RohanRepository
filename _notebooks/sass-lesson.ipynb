{
 "cells": [
  {
   "attachments": {},
   "cell_type": "markdown",
   "metadata": {},
   "source": [
    "# SASS"
   ]
  },
  {
   "attachments": {},
   "cell_type": "markdown",
   "metadata": {},
   "source": [
    "# Why SASS?\n",
    "\n",
    "SASS is an improvement on CSS in that there are methods of abstraction. It is a  language that is _____ into CSS, which means that __________, which is what your web browser can read.\n",
    "\n",
    "# SASS vs SCSS\n",
    "As you learn about Sass, you might notice something called Scss. They are basically the same thing except that Scss uses curly braces and semicolons to distinguish between lines. Sass uses indentation and newlines instead.\n",
    "\n",
    "We will be teaching the Scss syntax because it is more commonly used."
   ]
  },
  {
   "attachments": {},
   "cell_type": "markdown",
   "metadata": {},
   "source": [
    "# Getting started\n",
    "\n",
    "A easy way to write SASS and have it preprocessed into CSS is by using a Jekyll powered website, such as GitHub pages or Fastpages.\n",
    "\n",
    "The first step is to clone a GitHub pages repo, such as this [one](https://github.com/lwu1822/sassy_squad).\n",
    "\n",
    "Within the repository, head over to `assets/css/`, and open `style.scss`.\n",
    "\n",
    "This is where you can create your SASS code.\n",
    "\n",
    "To see your CSS-translated SASS code, head over to `_site/assets/css/style.css`\n",
    "\n",
    "Note: You will need to run bundle exec jekyll serve before the _site directory appears.\n",
    "\n",
    "The first few hundred lines are used to style Github's theme. Make sure to scroll to the very bottom to see the SASS code that you wrote, which is in the form of CSS."
   ]
  },
  {
   "attachments": {},
   "cell_type": "markdown",
   "metadata": {},
   "source": [
    "# Nesting\n",
    "\n",
    "- Many selectors may share the same element\n",
    "- SASS nesting --> style code using hierarchies\n",
    "\n"
   ]
  },
  {
   "attachments": {},
   "cell_type": "markdown",
   "metadata": {},
   "source": [
    "# Mini-hack\n",
    "\n",
    "Write out the SASS equivalent for the following CSS code:\n",
    "\n",
    "```\n",
    ".a .b {\n",
    "    color: green;\n",
    "}\n",
    "\n",
    ".a .c {\n",
    "    color: blue;\n",
    "}\n",
    "```"
   ]
  },
  {
   "attachments": {},
   "cell_type": "markdown",
   "metadata": {
    "vscode": {
     "languageId": "plaintext"
    }
   },
   "source": [
    ".a .b {\n",
    "    color: green;\n",
    "    \n",
    "    .c {\n",
    "      color: blue;\n",
    "    }\n",
    " }"
   ]
  },
  {
   "attachments": {},
   "cell_type": "markdown",
   "metadata": {},
   "source": [
    "# Extend/Inheritance\n",
    "\n",
    "What are some similarities that the buttons share? What are the differences?\n",
    "\n",
    "- The shape and configuration of the buttons are the same\n",
    "- Same width, height, and font color.\n",
    "\n",
    "### Notes ###\n",
    "- Can create placeholders that can store reusable code\n",
    "- can use syntax like %buttonlayout and style in there. This can also be used later.\n"
   ]
  },
  {
   "attachments": {},
   "cell_type": "markdown",
   "metadata": {},
   "source": [
    "# Mixin\n",
    "\n",
    "- Creates code template that can be reused \n",
    "- Can take in parameters for dynamic styling"
   ]
  },
  {
   "attachments": {},
   "cell_type": "markdown",
   "metadata": {},
   "source": [
    "# Mini-hack\n",
    "\n",
    "Write out a mixin in SASS that takes in a color and a font size as the parameter. Within the mixin, set the background color and font color to the color parameter, and set the font size to the font size parameter. Then create a selector that calls the mixin, and pass in a color and font size of your choice as the arguments."
   ]
  },
  {
   "attachments": {},
   "cell_type": "markdown",
   "metadata": {},
   "source": [
    "# Function\n",
    "\n",
    "- Function: can take in rgb value and returns the inverted rgb color.\n",
    "- You call a function by specifying the name of the function with parenthesis. \n",
    "- Arguments can be specified."
   ]
  },
  {
   "attachments": {},
   "cell_type": "markdown",
   "metadata": {},
   "source": [
    "# Import\n",
    "\n",
    "- We can split code into multiple files and then combine them.\n",
    "- We put one stylesheet in some other SASS file and then create a directory called _sass.\n",
    "- "
   ]
  },
  {
   "attachments": {},
   "cell_type": "markdown",
   "metadata": {},
   "source": [
    "# SASS Hacks\n",
    "\n",
    "1. Take notes and complete the mini-hacks. (0.9)\n",
    "\n",
    "2. Complete the [quiz questions](https://lwu1822.github.io/sassy_squad/quizQuestions) and provide your answers in this notebook. (0.9)\n",
    "\n",
    "3. Use SASS to create something that uses either extend or mixin. (0.9)\n",
    "\n",
    "4. Extra credit: Research other SASS features and blog about what you learned or add to your SASS project with any extra features not covered in this lesson. More points will be given if both are done."
   ]
  },
  {
   "attachments": {},
   "cell_type": "markdown",
   "metadata": {},
   "source": [
    "## SASS MCQ ##\n",
    "1. SASS is a scripting language that has many styling operations (option b)\n",
    "2. The difference between SASS and CSS is that the syntax is sightly different (option a)\n",
    "3. One advantage of SASS over CSS is that SASS has more functions than CSS (option a)'\n",
    "4. SASS stands for Systematically Arranged Sample Sheets (option a)\n",
    "5. Compute is not an example of a SASS directive (option d)\n",
    "6. The Mixin director is used to share rules and relationships between selectors (option c)\n",
    "7. @__ is called a directive. (option b)"
   ]
  }
 ],
 "metadata": {
  "kernelspec": {
   "display_name": "base",
   "language": "python",
   "name": "python3"
  },
  "language_info": {
   "name": "python",
   "version": "3.9.12"
  },
  "orig_nbformat": 4
 },
 "nbformat": 4,
 "nbformat_minor": 2
}
