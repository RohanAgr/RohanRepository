{
 "cells": [
  {
   "cell_type": "markdown",
   "metadata": {},
   "source": [
    "- searching algorithms can be done in intervals or sequences\n",
    "- sequencial search can take way too long\n",
    "- binary search is most efficient for sorted lists\n",
    "- for algorithms --> important to understand the question or what is asked\n",
    "- we can use if else syntax for that in JS"
   ]
  },
  {
   "cell_type": "code",
   "execution_count": 1,
   "metadata": {},
   "outputs": [],
   "source": [
    "sum = 24\n",
    "counter = 5\n",
    "for i in range (0, 25):\n",
    "    sum = sum + 2\n",
    "    counter = counter + 5"
   ]
  },
  {
   "cell_type": "code",
   "execution_count": 7,
   "metadata": {},
   "outputs": [],
   "source": [
    "def squareroot(i):\n",
    "    if (i == 0 or i == 1):\n",
    "        return(i)\n",
    "    for x in range (1, 100):\n",
    "     if x*x: \n",
    "        return x"
   ]
  },
  {
   "cell_type": "code",
   "execution_count": 12,
   "metadata": {},
   "outputs": [
    {
     "name": "stdout",
     "output_type": "stream",
     "text": [
      "136\n",
      "68.0\n",
      "68.0\n",
      "34.0\n",
      "34.0\n",
      "17.0\n",
      "17.0\n",
      "52.0\n",
      "26.0\n",
      "26.0\n",
      "13.0\n",
      "13.0\n",
      "40.0\n",
      "20.0\n",
      "20.0\n",
      "10.0\n",
      "10.0\n",
      "5.0\n",
      "5.0\n",
      "16.0\n",
      "8.0\n",
      "8.0\n",
      "4.0\n",
      "4.0\n",
      "2.0\n",
      "2.0\n",
      "1.0\n",
      "1.0\n",
      "None\n"
     ]
    }
   ],
   "source": [
    "def collatz(int):\n",
    "    while int > 1:\n",
    "        if int % 2 == 0:\n",
    "            int = int / 2\n",
    "            print(int)\n",
    "        else:\n",
    "            int = (int * 3) + 1\n",
    "        print(int)\n",
    "\n",
    "i = 45\n",
    "print(collatz(i))"
   ]
  }
 ],
 "metadata": {
  "kernelspec": {
   "display_name": "Python 3.8.10 64-bit",
   "language": "python",
   "name": "python3"
  },
  "language_info": {
   "codemirror_mode": {
    "name": "ipython",
    "version": 3
   },
   "file_extension": ".py",
   "mimetype": "text/x-python",
   "name": "python",
   "nbconvert_exporter": "python",
   "pygments_lexer": "ipython3",
   "version": "3.8.10"
  },
  "orig_nbformat": 4,
  "vscode": {
   "interpreter": {
    "hash": "916dbcbb3f70747c44a77c7bcd40155683ae19c65e1c03b4aa3499c5328201f1"
   }
  }
 },
 "nbformat": 4,
 "nbformat_minor": 2
}
