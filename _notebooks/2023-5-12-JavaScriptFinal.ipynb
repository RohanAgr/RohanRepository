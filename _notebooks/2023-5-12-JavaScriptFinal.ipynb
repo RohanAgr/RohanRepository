{
 "cells": [
  {
   "attachments": {},
   "cell_type": "markdown",
   "metadata": {},
   "source": [
    "# JavaScript Final #\n",
    "## By Rohan Agarwal ##"
   ]
  },
  {
   "attachments": {},
   "cell_type": "markdown",
   "metadata": {},
   "source": [
    "## In this notebook we will go over: ##\n",
    "\n",
    "- What JavaScript is\n",
    "- How it is used\n",
    "- Some commands, basic syntax, etc.\n",
    "- Applications of syntax in a slightly more complex situation"
   ]
  },
  {
   "attachments": {},
   "cell_type": "markdown",
   "metadata": {},
   "source": [
    "# What is JavaScipt? #\n",
    "\n",
    "JavaScript is a programming language (scripting) which allows for features on websites. A lot of features that a web page does (besides static display of information) has some kind of J.S. behind it. It is the world's most popular programming language, and is deemed the \"programming language of the web.\"\n",
    "\n",
    "## What are the Big Three Languages in Web Development? ##\n",
    "- HTML: Markup language used to give structure / meaning to web content. Examples include defining paragraphs, headings, tables, and images.\n",
    "- CSS: Language used to style the page (background colors, fonts, content layout)\n",
    "- **JavaScript: Language used to dynamically update content, animate things, and any other feature / component of the web page.**"
   ]
  },
  {
   "attachments": {},
   "cell_type": "markdown",
   "metadata": {},
   "source": [
    "# Some Syntax\n",
    "\n",
    "If you want to write JavaScript in HTML, simply add the `<script>` tag in your code and write your syntax. \n",
    "\n",
    "## Variables:\n",
    "\n",
    "variables in JavaScript can hold values of any data type. This includes:\n",
    "- strings\n",
    "- integers\n",
    "- booleans\n",
    "- lists\n",
    "\n",
    "Some examples of what can be stored is listed below:\n"
   ]
  },
  {
   "cell_type": "code",
   "execution_count": 6,
   "metadata": {},
   "outputs": [
    {
     "data": {
      "application/javascript": "\nvar num = 10;\nvar name = \"Rohan\";\nvar isFalse = false;\nvar teams = ['Dodgers', 'Padres', 'Diamondbacks', 'Rockies', 'Giants'];\nvar player = { name: 'Albert Pujols', homers: 705 };\n",
      "text/plain": [
       "<IPython.core.display.Javascript object>"
      ]
     },
     "metadata": {},
     "output_type": "display_data"
    }
   ],
   "source": [
    "%%js\n",
    "\n",
    "var num = 10;\n",
    "var name = \"Rohan\";\n",
    "var isFalse = false;\n",
    "var teams = ['Dodgers', 'Padres', 'Diamondbacks', 'Rockies', 'Giants'];\n",
    "var player = { name: 'Albert Pujols', homers: 705 };"
   ]
  },
  {
   "attachments": {},
   "cell_type": "markdown",
   "metadata": {},
   "source": [
    "# Functions:\n",
    "\n",
    "Functions are very useful in all code, as it is a chunk of code that we can use over and over again. This greatly simplifies our code and makes it very easy to read and follow. \n",
    "- Functions can be created using the `function` syntax and then the name of your function, followed by parenthesis and then curly brackets.\n",
    "- An example is shown below"
   ]
  },
  {
   "cell_type": "code",
   "execution_count": 7,
   "metadata": {},
   "outputs": [
    {
     "data": {
      "application/javascript": "\nfunction hello() {\n    console.log('Hello World!');\n}\n",
      "text/plain": [
       "<IPython.core.display.Javascript object>"
      ]
     },
     "metadata": {},
     "output_type": "display_data"
    }
   ],
   "source": [
    "%%js\n",
    "\n",
    "function hello() {\n",
    "    console.log('Hello World!');\n",
    "}"
   ]
  },
  {
   "attachments": {},
   "cell_type": "markdown",
   "metadata": {},
   "source": [
    "Functions can be used to do some basic math as well"
   ]
  },
  {
   "cell_type": "code",
   "execution_count": 8,
   "metadata": {},
   "outputs": [
    {
     "data": {
      "application/javascript": "\nfunction quickmaths(a, b) {\n    return a + b;\n}\n\nvar result = quickmaths(2, 3);\nconsole.log(result);\n",
      "text/plain": [
       "<IPython.core.display.Javascript object>"
      ]
     },
     "metadata": {},
     "output_type": "display_data"
    }
   ],
   "source": [
    "%%js\n",
    "\n",
    "function quickmaths(a, b) {\n",
    "    return a + b;\n",
    "}\n",
    "\n",
    "var result = quickmaths(2, 3);\n",
    "console.log(result);\n"
   ]
  },
  {
   "attachments": {},
   "cell_type": "markdown",
   "metadata": {},
   "source": [
    "# Loops and Iterations, Conditionals\n",
    "J.S. also incorporates if, then, else, for, while, and switch statements. \n",
    "\n",
    "## If Statement\n",
    "A logic for an if statement goes something like this:\n",
    "- If `condition`, then `execution`, else, `alternate execution`\n",
    "\n",
    "- Here is an example of a logic for if / then / else"
   ]
  },
  {
   "cell_type": "code",
   "execution_count": 9,
   "metadata": {},
   "outputs": [
    {
     "data": {
      "application/javascript": "\nvar num = 5;\nif (num > 0) {\n    console.log(\"This number is positive\");\n} else if (num < 0) {\n    console.log(\"This number is negative\");\n} else {\n    console.log(\"This number is zero\");\n}\n",
      "text/plain": [
       "<IPython.core.display.Javascript object>"
      ]
     },
     "metadata": {},
     "output_type": "display_data"
    }
   ],
   "source": [
    "%%js\n",
    "\n",
    "var num = 5;\n",
    "if (num > 0) {\n",
    "    console.log(\"This number is positive\");\n",
    "} else if (num < 0) {\n",
    "    console.log(\"This number is negative\");\n",
    "} else {\n",
    "    console.log(\"This number is zero\");\n",
    "}"
   ]
  },
  {
   "attachments": {},
   "cell_type": "markdown",
   "metadata": {},
   "source": [
    "Here is a sample logic for a for / while statements:\n",
    "\n",
    "`for (i = 0; i < 5, i++)`\n",
    "- This keeps adding 1 to i until it is detected that i is no longer greater than 5.\n",
    "\n",
    "` while (true) {\n",
    "    syntax goes here\n",
    "} `\n",
    "\n",
    "the program will keep running as long as the while statement is satisfied."
   ]
  },
  {
   "attachments": {},
   "cell_type": "markdown",
   "metadata": {},
   "source": [
    "### Switch\n",
    "\n",
    "- This is my personal favorite!\n",
    "- Switches allow for different avenues of outputs. This is largely based on user input.\n",
    "- A lot of games use switches based on user key punches.\n",
    "- An example logic for switch is shown below:"
   ]
  },
  {
   "attachments": {},
   "cell_type": "markdown",
   "metadata": {},
   "source": [
    "- The console will ask a user to enter a certain month\n",
    "- If / when the user enters \"January,\" the console will output \"Beginning of the year\"\n",
    "- If / when the user enters \"December,\" the console will output \"End of the year.\""
   ]
  },
  {
   "attachments": {},
   "cell_type": "markdown",
   "metadata": {},
   "source": [
    "## Other cool functions\n",
    "\n",
    "- button OnClick: Depending on what the code is, upon the click of said button, a command will execute,\n",
    "- GetElementByID: returns an element object representing said ID. \n",
    "\n",
    "some example code is shown below:"
   ]
  },
  {
   "cell_type": "code",
   "execution_count": 10,
   "metadata": {
    "vscode": {
     "languageId": "html"
    }
   },
   "outputs": [
    {
     "ename": "SyntaxError",
     "evalue": "invalid syntax (4261986838.py, line 1)",
     "output_type": "error",
     "traceback": [
      "\u001b[0;36m  Input \u001b[0;32mIn [10]\u001b[0;36m\u001b[0m\n\u001b[0;31m    <p style=\"checkbox-align: left; font-size: 20px; color: blue;\">Select your desired price:</p>\u001b[0m\n\u001b[0m    ^\u001b[0m\n\u001b[0;31mSyntaxError\u001b[0m\u001b[0;31m:\u001b[0m invalid syntax\n"
     ]
    }
   ],
   "source": [
    "<p style=\"checkbox-align: left; font-size: 20px; color: blue;\">Select your desired price:</p>\n",
    "<label class=\"price\"><input type=\"checkbox\" style=\"checkbox-align: left;\" id=\"price1\" value=\"40000\"> $40,000 </label>\n",
    "<label class=\"price\"><input type=\"checkbox\" style=\"checkbox-align: left;\" id=\"price2\" value=\"60000\"> $60,000 </label>\n",
    "<label class=\"price\"><input type=\"checkbox\" style=\"checkbox-align: left;\" id=\"price3\" value=\"70000\"> $70,000 </label>\n",
    "<label class=\"price\"><input type=\"checkbox\" style=\"checkbox-align: left;\" id=\"price4\" value=\"80000\"> $80,000 </label>\n",
    "<label class=\"price\"><input type=\"checkbox\" style=\"checkbox-align: left;\" id=\"price5\" value=\"100000\"> $100,000+ </label>\n",
    "<p>\n",
    "   <button id=\"button4\" onclick=\"getPriceValue()\"> Find out which car matches your search</button>\n",
    "</p>\n",
    "<p id=\"button4\"></p>\n",
    "<button id=\"save\" onclick=\"window.location.reload()\"> Save All Changes</button>\n",
    "<script>\n",
    "   function getRangeValue() {\n",
    "       document.getElementById(\"button1\").outerHTML = \"Tesla Roadster\";\n",
    "   }\n",
    "   function getSeatingValue() {\n",
    "       document.getElementById(\"button2\").outerHTML = \"Rivian R1S\";\n",
    "   }\n",
    "   function getZeroValue(){\n",
    "       document.getElementById(\"button3\").outerHTML = \"NIO EC7\";\n",
    "   }\n",
    "   function getPriceValue(){\n",
    "       document.getElementById(\"button4\").outerHTML = \"Lucid Air Grand Touring\";\n",
    "   }\n",
    "   // Excerpt from CPT"
   ]
  },
  {
   "attachments": {},
   "cell_type": "markdown",
   "metadata": {},
   "source": [
    "## What we have done in CSP in terms of JavaScript"
   ]
  }
 ],
 "metadata": {
  "kernelspec": {
   "display_name": "base",
   "language": "python",
   "name": "python3"
  },
  "language_info": {
   "codemirror_mode": {
    "name": "ipython",
    "version": 3
   },
   "file_extension": ".py",
   "mimetype": "text/x-python",
   "name": "python",
   "nbconvert_exporter": "python",
   "pygments_lexer": "ipython3",
   "version": "3.9.12"
  },
  "orig_nbformat": 4
 },
 "nbformat": 4,
 "nbformat_minor": 2
}
