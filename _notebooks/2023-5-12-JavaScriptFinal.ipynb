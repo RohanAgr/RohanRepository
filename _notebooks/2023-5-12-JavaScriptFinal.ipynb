{
 "cells": [
  {
   "attachments": {},
   "cell_type": "markdown",
   "metadata": {},
   "source": [
    "# JavaScript Final #\n",
    "## By Rohan Agarwal ##"
   ]
  },
  {
   "attachments": {},
   "cell_type": "markdown",
   "metadata": {},
   "source": [
    "## In this notebook we will go over: ##\n",
    "\n",
    "- What JavaScript is\n",
    "- How it is used\n",
    "- Some commands, basic syntax, etc.\n",
    "- Applications of syntax in a slightly more complex situation"
   ]
  },
  {
   "attachments": {},
   "cell_type": "markdown",
   "metadata": {},
   "source": [
    "# What is JavaScipt? #\n",
    "\n",
    "JavaScript is a programming language (scripting) which allows for features on websites. A lot of features that a web page does (besides static display of information) has some kind of J.S. behind it. It is the world's most popular programming language, and is deemed the \"programming language of the web.\"\n",
    "\n",
    "## What are the Big Three Languages in Web Development? ##\n",
    "- HTML: Markup language used to give structure / meaning to web content. Examples include defining paragraphs, headings, tables, and images.\n",
    "- CSS: Language used to style the page (background colors, fonts, content layout)\n",
    "- **JavaScript: Language used to dynamically update content, animate things, and any other feature / component of the web page.**"
   ]
  }
 ],
 "metadata": {
  "kernelspec": {
   "display_name": "base",
   "language": "python",
   "name": "python3"
  },
  "language_info": {
   "codemirror_mode": {
    "name": "ipython",
    "version": 3
   },
   "file_extension": ".py",
   "mimetype": "text/x-python",
   "name": "python",
   "nbconvert_exporter": "python",
   "pygments_lexer": "ipython3",
   "version": "3.9.12"
  },
  "orig_nbformat": 4
 },
 "nbformat": 4,
 "nbformat_minor": 2
}
